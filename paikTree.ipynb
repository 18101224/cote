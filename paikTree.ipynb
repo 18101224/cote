{
 "cells": [
  {
   "cell_type": "markdown",
   "id": "4e0224de",
   "metadata": {},
   "source": [
    "<h1>요세푸스</h1>"
   ]
  },
  {
   "cell_type": "code",
   "execution_count": 43,
   "id": "c835c17f",
   "metadata": {},
   "outputs": [],
   "source": [
    "n=8\n",
    "people = [i+1 for i in range(n)]"
   ]
  },
  {
   "cell_type": "code",
   "execution_count": 44,
   "id": "3e605a9f",
   "metadata": {},
   "outputs": [
    {
     "data": {
      "text/plain": [
       "[1, 2, 3, 4, 5, 6, 7, 8]"
      ]
     },
     "execution_count": 44,
     "metadata": {},
     "output_type": "execute_result"
    }
   ],
   "source": [
    "people"
   ]
  },
  {
   "cell_type": "code",
   "execution_count": null,
   "id": "f0705efd",
   "metadata": {},
   "outputs": [],
   "source": [
    "while len(people)>=k :\n",
    "    before = people[:k]\n",
    "    for i in range(k):\n",
    "        people.pop(i)\n",
    "    people=people+before\n",
    "    "
   ]
  },
  {
   "cell_type": "markdown",
   "id": "37829832",
   "metadata": {},
   "source": [
    "<h1>부모찾기</h1>"
   ]
  },
  {
   "cell_type": "code",
   "execution_count": 11,
   "id": "6a1de366",
   "metadata": {
    "scrolled": true
   },
   "outputs": [
    {
     "name": "stdout",
     "output_type": "stream",
     "text": [
      "4\n"
     ]
    }
   ],
   "source": [
    "#n=int(input())\n",
    "import sys\n",
    "edges=[]\n",
    "n=int(input())\n",
    "for i in range(n-1):\n",
    "    temp=list(map(int,sys.stdin.readline().split()))\n",
    "    edges.append((temp[0],temp[1]))\n",
    "correlation = [[]for i in range(n+2)]\n",
    "parent=[None for i in range(n+2)]\n",
    "for edge in edges : \n",
    "    correlation[edge[0]].append(edge[1])\n",
    "    correlation[edge[1]].append(edge[0])\n",
    "q=[1]\n",
    "while len(q)>=1:\n",
    "    node = q[0]\n",
    "    for index in correlation[node]:\n",
    "        if parent[index]!=node:\n",
    "            parent[index]=node\n",
    "            q.append(index)\n",
    "    q.pop(0)\n",
    "for i in range(2,len(parent)-1):\n",
    "    print(parent[i])"
   ]
  },
  {
   "cell_type": "code",
   "execution_count": 1,
   "id": "647f751d",
   "metadata": {},
   "outputs": [
    {
     "name": "stdout",
     "output_type": "stream",
     "text": [
      "4\n",
      "6\n",
      "1\n",
      "3\n",
      "1\n",
      "4\n",
      "2\n",
      "2\n"
     ]
    }
   ],
   "source": [
    "edges=[(1 ,6),\n",
    "(6, 3),\n",
    "(3 ,5),\n",
    "(4, 1),\n",
    "(2, 4),\n",
    "(4, 7),\n",
    "(2,8),\n",
    "(9,2)] \n",
    "n=9\n",
    "correlation = [[]for i in range(n+2)]\n",
    "parent=[None for i in range(n+2)]\n",
    "for edge in edges : \n",
    "    correlation[edge[0]].append(edge[1])\n",
    "    correlation[edge[1]].append(edge[0])\n",
    "q=[1]\n",
    "while len(q)>=1:\n",
    "    node = q[0]\n",
    "    for index in correlation[node]:\n",
    "        if parent[index]!=node:\n",
    "            parent[index]=node\n",
    "            q.append(index)\n",
    "    q.pop(0)\n",
    "for i in range(2,len(parent)-1):\n",
    "    print(parent[i])"
   ]
  },
  {
   "cell_type": "code",
   "execution_count": 25,
   "id": "8c5d0fda",
   "metadata": {},
   "outputs": [
    {
     "name": "stdout",
     "output_type": "stream",
     "text": [
      "7\n"
     ]
    },
    {
     "ename": "IndexError",
     "evalue": "list index out of range",
     "output_type": "error",
     "traceback": [
      "\u001b[0;31m---------------------------------------------------------------------------\u001b[0m",
      "\u001b[0;31mIndexError\u001b[0m                                Traceback (most recent call last)",
      "\u001b[0;32m/var/folders/b7/nd2wbqlj4pd8ytlcv6fv1b_w0000gn/T/ipykernel_4930/1592227879.py\u001b[0m in \u001b[0;36m<module>\u001b[0;34m\u001b[0m\n\u001b[1;32m      4\u001b[0m \u001b[0;32mfor\u001b[0m \u001b[0mi\u001b[0m \u001b[0;32min\u001b[0m \u001b[0mrange\u001b[0m\u001b[0;34m(\u001b[0m\u001b[0mn\u001b[0m\u001b[0;34m-\u001b[0m\u001b[0;36m1\u001b[0m\u001b[0;34m)\u001b[0m\u001b[0;34m:\u001b[0m\u001b[0;34m\u001b[0m\u001b[0;34m\u001b[0m\u001b[0m\n\u001b[1;32m      5\u001b[0m     \u001b[0mtemp\u001b[0m\u001b[0;34m=\u001b[0m\u001b[0mlist\u001b[0m\u001b[0;34m(\u001b[0m\u001b[0mmap\u001b[0m\u001b[0;34m(\u001b[0m\u001b[0mint\u001b[0m\u001b[0;34m,\u001b[0m\u001b[0msys\u001b[0m\u001b[0;34m.\u001b[0m\u001b[0mstdin\u001b[0m\u001b[0;34m.\u001b[0m\u001b[0mreadline\u001b[0m\u001b[0;34m(\u001b[0m\u001b[0;34m)\u001b[0m\u001b[0;34m.\u001b[0m\u001b[0msplit\u001b[0m\u001b[0;34m(\u001b[0m\u001b[0;34m)\u001b[0m\u001b[0;34m)\u001b[0m\u001b[0;34m)\u001b[0m\u001b[0;34m\u001b[0m\u001b[0;34m\u001b[0m\u001b[0m\n\u001b[0;32m----> 6\u001b[0;31m     \u001b[0medges\u001b[0m\u001b[0;34m.\u001b[0m\u001b[0mappend\u001b[0m\u001b[0;34m(\u001b[0m\u001b[0;34m(\u001b[0m\u001b[0mtemp\u001b[0m\u001b[0;34m[\u001b[0m\u001b[0;36m0\u001b[0m\u001b[0;34m]\u001b[0m\u001b[0;34m,\u001b[0m\u001b[0mtemp\u001b[0m\u001b[0;34m[\u001b[0m\u001b[0;36m1\u001b[0m\u001b[0;34m]\u001b[0m\u001b[0;34m)\u001b[0m\u001b[0;34m)\u001b[0m\u001b[0;34m\u001b[0m\u001b[0;34m\u001b[0m\u001b[0m\n\u001b[0m\u001b[1;32m      7\u001b[0m \u001b[0mcorrelation\u001b[0m \u001b[0;34m=\u001b[0m \u001b[0;34m[\u001b[0m\u001b[0;34m[\u001b[0m\u001b[0;34m]\u001b[0m \u001b[0;32mfor\u001b[0m \u001b[0mi\u001b[0m \u001b[0;32min\u001b[0m \u001b[0mrange\u001b[0m\u001b[0;34m(\u001b[0m\u001b[0mn\u001b[0m\u001b[0;34m+\u001b[0m\u001b[0;36m2\u001b[0m\u001b[0;34m)\u001b[0m\u001b[0;34m]\u001b[0m\u001b[0;34m\u001b[0m\u001b[0;34m\u001b[0m\u001b[0m\n\u001b[1;32m      8\u001b[0m \u001b[0mparent\u001b[0m\u001b[0;34m=\u001b[0m\u001b[0;34m[\u001b[0m\u001b[0;36m0\u001b[0m \u001b[0;32mfor\u001b[0m \u001b[0mi\u001b[0m \u001b[0;32min\u001b[0m \u001b[0mrange\u001b[0m\u001b[0;34m(\u001b[0m\u001b[0mn\u001b[0m\u001b[0;34m+\u001b[0m\u001b[0;36m2\u001b[0m\u001b[0;34m)\u001b[0m\u001b[0;34m]\u001b[0m\u001b[0;34m\u001b[0m\u001b[0;34m\u001b[0m\u001b[0m\n",
      "\u001b[0;31mIndexError\u001b[0m: list index out of range"
     ]
    }
   ],
   "source": [
    "import sys\n",
    "edges=[]\n",
    "n=int(input())\n",
    "for i in range(n-1):\n",
    "    temp=list(map(int,sys.stdin.readline().split()))\n",
    "    edges.append((temp[0],temp[1]))\n",
    "correlation = [[] for i in range(n+2)]\n",
    "parent=[0 for i in range(n+2)]\n",
    "for edge in edges :\n",
    "    correlation[edge[0]].append(edge[1])\n",
    "    correlation[edge[1]].append(edge[0])\n",
    "q=[1]\n",
    "######################\n",
    "while len(q)>=1:\n",
    "    node = q[0]\n",
    "    for index in range(1,len(correlation[node])):\n",
    "        if correlation[node][index]==1:\n",
    "            if index == parent[node]:\n",
    "                continue\n",
    "            parent[index]=node\n",
    "            q.append(index)\n",
    "    q.pop(0)\n",
    "for i in range(2,len(parent)):\n",
    "    print(parent[i])"
   ]
  },
  {
   "cell_type": "markdown",
   "id": "17ca9206",
   "metadata": {},
   "source": [
    "<h1>트리 지름 구하기</h1>"
   ]
  },
  {
   "cell_type": "code",
   "execution_count": 42,
   "id": "e6ff5c18",
   "metadata": {},
   "outputs": [],
   "source": [
    "class Node:\n",
    "    def __init__(self,value):\n",
    "        self.value = value\n",
    "        self.child=None\n",
    "    def appendChild(self,Node,weight):\n",
    "        self.child.append((Node,weight)) #노드랑 가중치\n",
    "        self.child.sort(key=lambda x:x[1])\n",
    "class Tree:\n",
    "    def __init__(self,head):\n",
    "        self.head = head\n",
    "    def "
   ]
  },
  {
   "cell_type": "code",
   "execution_count": null,
   "id": "2c62766c",
   "metadata": {},
   "outputs": [],
   "source": [
    "head=Node(1)\n",
    "start=1\n",
    "for edge in edges:\n",
    "    if edge[0] == start:\n",
    "        head.appendChild([edge[1],edge[2]])"
   ]
  },
  {
   "cell_type": "markdown",
   "id": "1e0b2773",
   "metadata": {},
   "source": [
    "<h1>순회변경</h1>"
   ]
  },
  {
   "cell_type": "code",
   "execution_count": null,
   "id": "4e2c84e6",
   "metadata": {},
   "outputs": [],
   "source": [
    "import sys\n",
    "n = int(input())\n",
    "def preOrder(inBegin, inEnd, postBegin, postEnd):\n",
    "    if (inBegin > inEnd or postBegin > postEnd) :\n",
    "        return;\n",
    "    root = postOrder[postEnd];\n",
    "    print(root,end=\"\")\n",
    "    preOrder(inBegin, idx[root] - 1, postBegin, postBegin + (idx[root] - inBegin) - 1);\n",
    "    preOrder(idx[root] + 1, inEnd, postBegin + (idx[root] - inBegin), postEnd - 1);\n",
    "\n",
    "inOrder = input()\n",
    "postOrder= input()\n",
    "\n",
    "for i in range(n):\n",
    "    idx[inOrder[i]] = i\n",
    "\n",
    "preOrder(0, N - 1, 0, N - 1);\n"
   ]
  },
  {
   "cell_type": "markdown",
   "id": "ef8ca464",
   "metadata": {},
   "source": [
    "<h1>이진트리 순회</h1>"
   ]
  },
  {
   "cell_type": "code",
   "execution_count": 2,
   "id": "42ad5671",
   "metadata": {},
   "outputs": [],
   "source": [
    "import sys\n",
    "def pre(node,Tree):\n",
    "    if Tree[node][0] == '.':\n",
    "        if Tree[node][1] == '.':\n",
    "            return node\n",
    "        else:\n",
    "            return node + pre(Tree[node][1],Tree)\n",
    "    elif Tree[node][1] == '.':\n",
    "        return node+pre(Tree[node][0],Tree)\n",
    "    else:\n",
    "        return node+pre(Tree[node][0],Tree)+pre(Tree[node][1],Tree)\n",
    "def post(node,Tree):\n",
    "    if Tree[node][0] == '.':\n",
    "        if Tree[node][1] == '.':\n",
    "            return node\n",
    "        else:\n",
    "            return post(Tree[node][1], Tree)+node\n",
    "    elif Tree[node][1] == '.':\n",
    "        return post(Tree[node][0], Tree)+node\n",
    "    else:\n",
    "        return post(Tree[node][0], Tree) + post(Tree[node][1], Tree)+node\n",
    "def In(node,Tree):\n",
    "    if Tree[node][0] == '.':\n",
    "        if Tree[node][1] == '.':\n",
    "            return node\n",
    "        else:\n",
    "            return node+In(Tree[node][1], Tree)\n",
    "    elif Tree[node][1] == '.':\n",
    "        return In(Tree[node][0], Tree)+node\n",
    "    else:\n",
    "        return In(Tree[node][0], Tree) +node + In(Tree[node][1], Tree)\n",
    "n = int(input())\n",
    "tree = {}\n",
    "for i in range(n):\n",
    "    string = list(map(str, sys.stdin.readline().split()))\n",
    "    tree[string[0]] = [string[1], string[2]]\n",
    "print(pre('A',tree))\n",
    "print(In('A',tree))\n",
    "print(post('A',tree))"
   ]
  },
  {
   "cell_type": "markdown",
   "id": "33b7b804",
   "metadata": {},
   "source": [
    "<h3>이원탐색트리 후위순회</h3>"
   ]
  },
  {
   "cell_type": "code",
   "execution_count": null,
   "id": "374fd781",
   "metadata": {},
   "outputs": [],
   "source": [
    "import sys\n",
    "sys.setrecursionlimit(10**9)\n",
    "nums = []\n",
    "while True:                            \n",
    "    try:\n",
    "        nums.append(int(sys.stdin.readline()))\n",
    "    except:\n",
    "        break\n",
    "        \n",
    "def postorder(start, end):\n",
    "    if start > end:\n",
    "        return\n",
    "    mid = end + 1                         # 오른쪽 노드가 없을 경우\n",
    "\n",
    "    for i in range(start+1, end+1):\n",
    "        if nums[start] < nums[i]:\n",
    "            mid = i\n",
    "            break\n",
    "\n",
    "    postorder(start+1, mid-1)               # 왼쪽 확인\n",
    "    postorder(mid, end)                   # 오른쪽 확인\n",
    "    print(nums[start])\n",
    "\n",
    "postorder(0, len(nums)-1)"
   ]
  },
  {
   "cell_type": "markdown",
   "id": "0fd46fe8",
   "metadata": {},
   "source": [
    "<h3>절대값 최대 힙</h3>"
   ]
  },
  {
   "cell_type": "code",
   "execution_count": 9,
   "id": "9f5858c5",
   "metadata": {},
   "outputs": [],
   "source": [
    "def left(i):\n",
    "    return 2*i+1\n",
    "def right(i):\n",
    "    return 2*i_2\n",
    "def parent(i):\n",
    "    return math.floor((i-1)/2)\n",
    "def minpush(data,node):\n",
    "    data.append(node)\n",
    "    idx = len(data)-1\n",
    "    while idx > 0 and abs(data[parent(idx)]) >= abs(data[idx]) :\n",
    "        if abs(data[parent(idx)]) == abs(data[idx]):\n",
    "            if data[parent(idx)] > data[idx] :\n",
    "                data[idx],data[parent(idx)] = data[parent(idx)],data[idx]\n",
    "            else:\n",
    "                break\n",
    "        else:\n",
    "            data[idx],data[parent(idx)] = data[parent(idx)],data[idx]\n",
    "            idx = parent(idx)\n",
    "def pop(data):\n",
    "    data[0]=None\n",
    "    last = data.pop(-1)\n",
    "    current=1\n",
    "    child=left(current)\n",
    "    if len(heap) == 1:\n",
    "        data.pop(0)\n",
    "    while child<=len(data)-1 :\n",
    "        if child < len(data)-1 and abs(data[child]) >= abs(data[child+1]) :\n",
    "            if abs(data[child]) == abs(data[child+1]):\n",
    "                if data[child] > data[child+1]:\n",
    "                    child+=1\n",
    "            else:    \n",
    "                child+=1\n",
    "        if(abs(last) >= abs(data[child])):\n",
    "            if abs(last)!=abs(data[child]):\n",
    "                break\n",
    "            else:\n",
    "                if last < data[child]:\n",
    "                    break\n",
    "        data[current] = data[child]\n",
    "        current=child\n",
    "        child=left(child)\n",
    "    heap[current]=last"
   ]
  },
  {
   "cell_type": "code",
   "execution_count": null,
   "id": "3182ec9f",
   "metadata": {},
   "outputs": [],
   "source": [
    "def pop(data):\n",
    "    if len(data)==1:\n",
    "        data.pop(0)\n",
    "        return\n",
    "    \n",
    "    data[0]=data.pop(-1)\n",
    "    current=1\n",
    "    child=left(current)\n",
    "    while child<=len(data)-1:\n",
    "        if child<len(data)-1 and abs(data[child]) >=abs(data[child+1]):\n",
    "            if abs(data[child]) == abs(data[child+1]):\n",
    "                if data[child] >= data[child+1]:\n",
    "                    child+=1\n",
    "            else:\n",
    "                child+=1\n",
    "        if abs(data[current]) <= abs(data[child]):\n",
    "            if abs(data[current]) != abs(data[child]):\n",
    "                break\n",
    "            else:\n",
    "                if data[current] <= data[child]:\n",
    "                    break\n",
    "        data[current],data[child]=data[child],data[current]\n",
    "        current=child\n",
    "        child=left(child)"
   ]
  },
  {
   "cell_type": "code",
   "execution_count": null,
   "id": "c9cddf31",
   "metadata": {},
   "outputs": [],
   "source": [
    "n=int(input())\n",
    "heap=[]\n",
    "for i in range(n):\n",
    "    a=int(sys.stdin.readline())\n",
    "    if a == 0 :\n",
    "        if len(heap)==0:\n",
    "            print(0)\n",
    "        else:\n",
    "            print(heap[0])\n",
    "            pop(heap)\n",
    "    else:\n",
    "        maxpush(heap,a)"
   ]
  }
 ],
 "metadata": {
  "kernelspec": {
   "display_name": "Python 3 (ipykernel)",
   "language": "python",
   "name": "python3"
  },
  "language_info": {
   "codemirror_mode": {
    "name": "ipython",
    "version": 3
   },
   "file_extension": ".py",
   "mimetype": "text/x-python",
   "name": "python",
   "nbconvert_exporter": "python",
   "pygments_lexer": "ipython3",
   "version": "3.9.6"
  }
 },
 "nbformat": 4,
 "nbformat_minor": 5
}
