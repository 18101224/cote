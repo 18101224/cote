{
 "cells": [
  {
   "cell_type": "code",
   "execution_count": 1,
   "id": "c20b237c",
   "metadata": {},
   "outputs": [],
   "source": [
    "import sys\n",
    "import numpy as np"
   ]
  },
  {
   "cell_type": "markdown",
   "id": "4e51051b",
   "metadata": {},
   "source": [
    "<h1>수열의 빠른합과 행렬의 빠른 제곱</h1>"
   ]
  },
  {
   "cell_type": "code",
   "execution_count": 14,
   "id": "ff8f44d2",
   "metadata": {},
   "outputs": [],
   "source": [
    "matri=np.array(matri)\n"
   ]
  },
  {
   "cell_type": "code",
   "execution_count": 16,
   "id": "d8a21c10",
   "metadata": {},
   "outputs": [],
   "source": [
    "square=np.matmul(matri,matri)"
   ]
  },
  {
   "cell_type": "code",
   "execution_count": 17,
   "id": "656c8ff7",
   "metadata": {},
   "outputs": [
    {
     "data": {
      "text/plain": [
       "array([[ 7, 10],\n",
       "       [15, 22]])"
      ]
     },
     "execution_count": 17,
     "metadata": {},
     "output_type": "execute_result"
    }
   ],
   "source": [
    "square"
   ]
  },
  {
   "cell_type": "code",
   "execution_count": 23,
   "id": "441bba2d",
   "metadata": {},
   "outputs": [],
   "source": [
    "def square(matrix):\n",
    "    n=len(matrix[0])\n",
    "    C=np.zeros((n,n))\n",
    "    for col in range(n):\n",
    "        for row in range(n):\n",
    "            temp = 0\n",
    "            for i in range(n):\n",
    "                temp+=matrix[row][i]*matrix[i][row]\n",
    "            C[row,col]=temp\n",
    "    return C\n",
    "def power(pow1,matrix):\n",
    "    if pow1==1 or pow1==2:\n",
    "        if pow1==1:\n",
    "            return matrix\n",
    "        else:\n",
    "            return square\n",
    "    elif pow1%2 == 0:\n",
    "        return power(2,power(pow1//2,matrix))\n",
    "    else:\n",
    "        return np.matmul(power(2,power(pow1-1,matrix)),matrix)"
   ]
  },
  {
   "cell_type": "markdown",
   "id": "b13c2890",
   "metadata": {},
   "source": [
    "<h1> 쿼드트리 뒤집기</h1>"
   ]
  },
  {
   "cell_type": "markdown",
   "id": "0893ae5f",
   "metadata": {},
   "source": [
    "<h3><pre>\n",
    "쿼드트리, 공간 4개\n",
    "w,b 리프노드 , x 자식 4개 생성\n",
    "</pre></h3>"
   ]
  },
  {
   "cell_type": "code",
   "execution_count": 84,
   "id": "0a7f3562",
   "metadata": {},
   "outputs": [],
   "source": [
    "test=['xbwwb','xbwxwbbwb','xxwwwbxwxwbbbwwxxxwwbbbwwwwbb']"
   ]
  },
  {
   "cell_type": "code",
   "execution_count": 153,
   "id": "73d9f673",
   "metadata": {},
   "outputs": [],
   "source": [
    "def reflection(string):\n",
    "    el=[]\n",
    "    if string[0]=='x' and 'x' not in string[1:5]:\n",
    "        return 'x'+string[3]+string[4]+string[1]+string[2]\n",
    "    elif string[0]=='x' and 'x' in string[1:5]:\n",
    "        i=1\n",
    "        while i<len(string) :\n",
    "            if string[i]!='x':\n",
    "                el.append(string[i])\n",
    "                i+=1\n",
    "            else: #string[i]=='x'\n",
    "                if 'x' in string[i+1:i+5]:\n",
    "                    temp=[]\n",
    "                    j=i+1\n",
    "                    while j<len(string):\n",
    "                        if string[j]=='x':\n",
    "                            temp.append(reflection(string[j:]))\n",
    "                            j+=len(temp[-1])\n",
    "                        else:\n",
    "                            temp.append(string[j])\n",
    "                            j+=1\n",
    "                    el.append('x'+temp[2]+temp[3]+temp[0]+temp[1])\n",
    "                    i+=len(el[-1])\n",
    "                else:\n",
    "                    el.append(reflection(string[i:]))\n",
    "                    i+=len(el[-1])\n",
    "        return 'x'+el[2]+el[3]+el[0]+el[1]"
   ]
  },
  {
   "cell_type": "code",
   "execution_count": 154,
   "id": "0bd7d0cc",
   "metadata": {},
   "outputs": [
    {
     "name": "stdout",
     "output_type": "stream",
     "text": [
      "xwbbw\n",
      "xxbwwbbbw\n",
      "xxwbxwwxbbwwbwbxwbwwxwwwxbbwb\n"
     ]
    }
   ],
   "source": [
    "for i in range(3):\n",
    "    print(reflection(test[i]))"
   ]
  },
  {
   "cell_type": "markdown",
   "id": "41af75d6",
   "metadata": {},
   "source": [
    "<h1>울타리 잘라내기</h1>"
   ]
  },
  {
   "cell_type": "code",
   "execution_count": 246,
   "id": "b0d4ab9d",
   "metadata": {},
   "outputs": [],
   "source": [
    "test=[[7,1,5,9,6,7,3],[1,4,4,4,4,1,1],[1,8,2,2]]"
   ]
  },
  {
   "cell_type": "code",
   "execution_count": 183,
   "id": "65329db5",
   "metadata": {},
   "outputs": [],
   "source": [
    "def cutting(bins):\n",
    "    mini = min(bins)\n",
    "    for i in range(len(bins)):\n",
    "        bins[i]-=mini\n",
    "    return bins"
   ]
  },
  {
   "cell_type": "code",
   "execution_count": 218,
   "id": "e435d971",
   "metadata": {},
   "outputs": [],
   "source": [
    "def split(bins):\n",
    "    result=[]\n",
    "    boolean=False\n",
    "    for i in range(len(bins)):\n",
    "        if not boolean:\n",
    "            temp=[]\n",
    "        if bins[i]!=0:\n",
    "            boolean=True\n",
    "            temp.append(bins[i])\n",
    "        if bins[i]==0:\n",
    "            result.append(temp)\n",
    "            boolean=False\n",
    "        elif i==len(bins)-1:\n",
    "            if boolean:\n",
    "                result.append(temp)\n",
    "    return result"
   ]
  },
  {
   "cell_type": "code",
   "execution_count": 247,
   "id": "b8761183",
   "metadata": {
    "scrolled": true
   },
   "outputs": [],
   "source": [
    "def box(bins,below):\n",
    "    if len(bins)==0:\n",
    "        return 0\n",
    "    elif len(bins)==1:\n",
    "        return bins[0]+below*1\n",
    "    else:\n",
    "        height=min(bins)\n",
    "        bins=cutting(bins)\n",
    "        width=len(bins)\n",
    "        area=[]\n",
    "        area.append(width*height+below*width)\n",
    "        objects=split(bins)\n",
    "        for i in objects:\n",
    "            #잘라낸 밑에거\n",
    "            temp=(height)*len(i)\n",
    "            area.append(box(i,below+height))\n",
    "            area.append(temp+below*len(i))\n",
    "        return max(area)"
   ]
  },
  {
   "cell_type": "markdown",
   "id": "524a126a",
   "metadata": {},
   "source": [
    "<h2>생각해보면 전수조사인데 .. 같은 값이 많으면 효율적인 ..  </h2>"
   ]
  },
  {
   "cell_type": "code",
   "execution_count": 248,
   "id": "68a51a2c",
   "metadata": {},
   "outputs": [
    {
     "name": "stdout",
     "output_type": "stream",
     "text": [
      "20\n",
      "16\n",
      "8\n"
     ]
    }
   ],
   "source": [
    "for i in range(3):\n",
    "    print(box(test[i],0))"
   ]
  },
  {
   "cell_type": "markdown",
   "id": "c594d8f5",
   "metadata": {},
   "source": [
    "<h1>팬미팅</h1>"
   ]
  },
  {
   "cell_type": "code",
   "execution_count": 313,
   "id": "ae3c9c76",
   "metadata": {},
   "outputs": [],
   "source": [
    "test_M=['FFFMMM','FFFFF','FFFFM','MFMFMFFFMMMFMF']\n",
    "test_F=['MMMFFF','FFFFFFFFFF','FFFFFMMMMF','MMFFFFFMFFFMFFFFFFMFFFMFFFFMFMMFFFFFFF']"
   ]
  },
  {
   "cell_type": "code",
   "execution_count": 314,
   "id": "b173f81e",
   "metadata": {},
   "outputs": [],
   "source": [
    "def convert(string):\n",
    "    result=[]\n",
    "    for i in string:\n",
    "        if i=='F':\n",
    "            result.append(0)\n",
    "        else:\n",
    "            result.append(1)\n",
    "    return np.array(result)"
   ]
  },
  {
   "cell_type": "code",
   "execution_count": 315,
   "id": "5870e1df",
   "metadata": {},
   "outputs": [],
   "source": [
    "for i in range(4):\n",
    "    test_M[i]=convert(test_M[i])\n",
    "    test_F[i]=convert(test_F[i])"
   ]
  },
  {
   "cell_type": "code",
   "execution_count": 316,
   "id": "b5048220",
   "metadata": {},
   "outputs": [],
   "source": [
    "def produceMatrix(string,length):\n",
    "    temp=[]\n",
    "    for i in range(0,len(string)-length+1):\n",
    "        temp.append(string[i:i+length])\n",
    "    return np.array(temp)"
   ]
  },
  {
   "cell_type": "code",
   "execution_count": 320,
   "id": "35682140",
   "metadata": {},
   "outputs": [],
   "source": [
    "def count(array):\n",
    "    count=0\n",
    "    for i in array[0]:\n",
    "        if i==0:\n",
    "            count+=1\n",
    "    return count"
   ]
  },
  {
   "cell_type": "code",
   "execution_count": 321,
   "id": "f41ad15a",
   "metadata": {},
   "outputs": [
    {
     "name": "stdout",
     "output_type": "stream",
     "text": [
      "1\n",
      "1\n",
      "1\n",
      "0\n"
     ]
    }
   ],
   "source": [
    "for i in range(4):\n",
    "    coef=produceMatrix(test_F[i],len(test_M[i]))\n",
    "    X=test_M[i]\n",
    "    print(count(np.matmul(coef,X.transpose().reshape(-1,1))))"
   ]
  },
  {
   "cell_type": "code",
   "execution_count": 311,
   "id": "72bb89fb",
   "metadata": {},
   "outputs": [
    {
     "data": {
      "text/plain": [
       "array([[0]])"
      ]
     },
     "execution_count": 311,
     "metadata": {},
     "output_type": "execute_result"
    }
   ],
   "source": [
    "np.matmul(coef,X.transpose().reshape(-1,1))"
   ]
  },
  {
   "cell_type": "code",
   "execution_count": 312,
   "id": "5a752516",
   "metadata": {},
   "outputs": [
    {
     "data": {
      "text/plain": [
       "(1, 6)"
      ]
     },
     "execution_count": 312,
     "metadata": {},
     "output_type": "execute_result"
    }
   ],
   "source": [
    "coef.shape"
   ]
  },
  {
   "cell_type": "code",
   "execution_count": null,
   "id": "1372b8e2",
   "metadata": {},
   "outputs": [],
   "source": []
  }
 ],
 "metadata": {
  "kernelspec": {
   "display_name": "Python 3 (ipykernel)",
   "language": "python",
   "name": "python3"
  },
  "language_info": {
   "codemirror_mode": {
    "name": "ipython",
    "version": 3
   },
   "file_extension": ".py",
   "mimetype": "text/x-python",
   "name": "python",
   "nbconvert_exporter": "python",
   "pygments_lexer": "ipython3",
   "version": "3.9.7"
  }
 },
 "nbformat": 4,
 "nbformat_minor": 5
}
