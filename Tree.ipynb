{
 "cells": [
  {
   "cell_type": "markdown",
   "id": "0aa26149",
   "metadata": {},
   "source": [
    "<h1>트리</h1>"
   ]
  },
  {
   "cell_type": "markdown",
   "id": "270ed356",
   "metadata": {},
   "source": [
    "<h3>트리 표현</h3>"
   ]
  },
  {
   "cell_type": "markdown",
   "id": "79c02ae4",
   "metadata": {},
   "source": [
    "<pre>\n",
    " 1. 왼쪽 자식, 오른쪽 형제 표현 : 연결리스트처럼 탐색이 가능, leftchild, rightsibling\n",
    " 2. 이진트리 \n",
    "     순서대로 채워나가면 '완전 이진트리', 그렇지 않으면 '편향 트리' </pre>"
   ]
  },
  {
   "cell_type": "markdown",
   "id": "3263a21f",
   "metadata": {},
   "source": [
    "<h4>이진트리 구현</h4>"
   ]
  },
  {
   "cell_type": "code",
   "execution_count": null,
   "id": "89dd28b0",
   "metadata": {},
   "outputs": [],
   "source": [
    "class BinaryTree:\n",
    "    def __init__(self,head):\n",
    "        self.head=head\n",
    "    def isEmpty(self): #head가 없는 트리면 빈 트리이지않을까 \n",
    "        if self.head == None:\n",
    "            return True\n",
    "        return False\n",
    "    def LeftSubtree(self):\n",
    "        if isEmpty():\n",
    "            return None\n",
    "        return BinaryTree(self.head.left)\n",
    "    def RightSubTree(self):\n",
    "        if isEmpty():\n",
    "            return None\n",
    "        return BinaryTree(self.head.right)\n",
    "    def root(self):\n",
    "        return self.head"
   ]
  },
  {
   "cell_type": "markdown",
   "id": "0c30fe87",
   "metadata": {},
   "source": [
    "<pre>\n",
    "    <h3>이진트리 성질</h3>\n",
    "    이진트리의 레벨 i에서 최대 노드 수는 2^(i-1)\n",
    "    깊이가 k인 이진트리의 최대 노드 수는 2^k-1\n",
    "</pre>"
   ]
  },
  {
   "cell_type": "code",
   "execution_count": 12,
   "id": "a3919787",
   "metadata": {},
   "outputs": [],
   "source": [
    "class BinaryArray:\n",
    "    def __init__(self):\n",
    "        self.array=[None,]\n",
    "    def insert(self,data):\n",
    "        self.array.append(data)\n",
    "    def parent(self,i):\n",
    "        if i!=1:\n",
    "            return self.array[i//2]\n",
    "    def leftChild(self,i): # i 번째 node의 왼쪽 자식 반환\n",
    "        if 2*i <= len(self.array)-1 :\n",
    "            return self.array[2*i]\n",
    "        else:\n",
    "            return None\n",
    "    def rightChild(self,i):\n",
    "        if 2*i+1 <=len(self.array)-1:\n",
    "            return self.array[2*i+1]\n",
    "        else:\n",
    "            return None"
   ]
  },
  {
   "cell_type": "markdown",
   "id": "2c05cf40",
   "metadata": {},
   "source": [
    "<h4>연결리스트로 트리 구현</h4>"
   ]
  },
  {
   "cell_type": "code",
   "execution_count": 32,
   "id": "b4eb7c45",
   "metadata": {},
   "outputs": [],
   "source": [
    "class Node:\n",
    "    def __init__(self,data,left,right): #연산에 부모가 필요할 것 같으면 부모의 정보도 함께 저장하면 된다.\n",
    "        self.data=data\n",
    "        self.left=left\n",
    "        self.right=right\n",
    "class Tree:\n",
    "    def __init__(self,root):\n",
    "        self.root=root\n",
    "        \n",
    "    def Inorder(self,current): #중위순회 이거들은 반복적으로 방문하나봄 .. 순환순회 \n",
    "        if current != None:\n",
    "            Inorder(current.left)\n",
    "            print(current.data)\n",
    "            Inorder(current.right)\n",
    "    def Preorder(self,current):\n",
    "        if current!=None:\n",
    "            print(current.data)\n",
    "            Preorder(current.left)\n",
    "            Preorder(current.right)\n",
    "    def Postorder(self,current):\n",
    "        if current!=None:\n",
    "            Postorder(current.left)\n",
    "            Postorder(current.right)\n",
    "            print(current.data)\n",
    "    def NoStackInorder(self):\n",
    "        if self.root=None: return #공백트리인 경우\n",
    "        p=self.root\n",
    "        q=self.root\n",
    "        while True:\n",
    "            while True:\n",
    "                if p.left!=None and p.right!=None:\n",
    "                    print(p.data)\n",
    "                    return\n",
    "                if p.left !=None:\n",
    "                    print(p.data)\n",
    "                    r=p.right\n",
    "                    p.right=q\n",
    "                    q=p\n",
    "                    p=r\n",
    "                else:\n",
    "                    r=p.left\n",
    "                    p.left=q\n",
    "                    q=p\n",
    "                    p=r\n",
    "            pass\n",
    "def isEqual(aNode,bNode): #각각 트리의 루트를 넣어보면 된다.\n",
    "    if aNode==None and bNode==None:\n",
    "        return True\n",
    "    return (aNode !=None and bNode !=None)\n",
    "            and aNode.data==bNode.data \n",
    "            and isEqual(aNode.left,bNode.left)\n",
    "            and isEqual(aNode.right,bNode.right)\n",
    "\n",
    "class InorderIterator:\n",
    "    def __init__(self,root):\n",
    "        self.current=root\n",
    "        self.stack=[]\n",
    "    def Next(self):\n",
    "        while current!=None:\n",
    "            self.stack.append(current)\n",
    "            current=current.left\n",
    "        if len(s)==0:\n",
    "            return\n",
    "        current=s[-1]\n",
    "        s.pop(-1)\n",
    "        temp=current.data\n",
    "        current=current.right\n",
    "        return temp\n"
   ]
  },
  {
   "cell_type": "markdown",
   "id": "c0fe7dba",
   "metadata": {},
   "source": [
    "<h4>스레드 이진트리</h4>"
   ]
  },
  {
   "cell_type": "markdown",
   "id": "a4520e2c",
   "metadata": {},
   "source": [
    "<pre> 리프노드나 자식이 완전히 채워지지 않은 노드의 경우 자식을 가리키는 포인터에 순회의 다음 순서를 가리킨다.</pre>"
   ]
  },
  {
   "cell_type": "code",
   "execution_count": null,
   "id": "243b7346",
   "metadata": {},
   "outputs": [],
   "source": [
    "class ThreadNode:\n",
    "    def __init__(self,data,left,right):\n",
    "        self.left=left\n",
    "        self.right=right\n",
    "        self.data=data\n",
    "        if left == None:\n",
    "            self.leftThread=True\n",
    "        else:\n",
    "            self.leftThread=False\n",
    "        if right == None:\n",
    "            self.rightThread=True\n",
    "        else:\n",
    "            self.rightThread=False\n",
    "class ThreadTree:\n",
    "    def __init__(self,root):\n",
    "        self.root=root\n",
    "class Iter():\n",
    "    def __init__(self,current,tree):\n",
    "        self.current=current\n",
    "    def next(self):\n",
    "        temp=self.current.right\n",
    "        if not self.current.rightThread :\n",
    "            while not temp.leftThread:\n",
    "                temp=temp.left\n",
    "        self.current=temp\n",
    "        if current==tree.root:\n",
    "            return 0\n",
    "        else:\n",
    "            return current.data"
   ]
  }
 ],
 "metadata": {
  "kernelspec": {
   "display_name": "Python 3 (ipykernel)",
   "language": "python",
   "name": "python3"
  },
  "language_info": {
   "codemirror_mode": {
    "name": "ipython",
    "version": 3
   },
   "file_extension": ".py",
   "mimetype": "text/x-python",
   "name": "python",
   "nbconvert_exporter": "python",
   "pygments_lexer": "ipython3",
   "version": "3.9.6"
  }
 },
 "nbformat": 4,
 "nbformat_minor": 5
}
