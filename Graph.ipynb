{
 "cells": [
  {
   "cell_type": "markdown",
   "id": "7df57df4",
   "metadata": {},
   "source": [
    "<h3>깊이 우선 탐색</h3>\n",
    "<pre> 재귀호출로 연결된 간선을 방문, </pre>"
   ]
  },
  {
   "cell_type": "code",
   "execution_count": 1,
   "id": "683e36b4",
   "metadata": {},
   "outputs": [],
   "source": [
    "def dfs(graph,current, valid):\n",
    "    print(current)\n",
    "    for i in range(len(graph[current])):\n",
    "        there = graph[current][i]\n",
    "        if valid[there]:\n",
    "            dfs(graph,there,valid)\n",
    "            \n",
    "def dfsAll(graph):\n",
    "    visited = [False]*len(graph)\n",
    "    for i in range(len(visited)):\n",
    "        if not visited[i]:\n",
    "            dfs(graph,visited[i],visited)\n"
   ]
  },
  {
   "cell_type": "markdown",
   "id": "654ac60e",
   "metadata": {},
   "source": [
    "<h1>고대어 사전</h1>"
   ]
  },
  {
   "cell_type": "code",
   "execution_count": 18,
   "id": "3b9358b0",
   "metadata": {},
   "outputs": [],
   "source": [
    "import sys\n",
    "def makeGraph(words):\n",
    "    matrix = [[0 for i in range(26)]for i in range(26)]\n",
    "    for j in range(1,len(words)):\n",
    "        i = j-1\n",
    "        length = min(len(words[i]),len(words[j]))\n",
    "        for k in range(length):\n",
    "            if words[i][k] != words[j][k]:\n",
    "                a = ord(words[i][k]) - ord('a')\n",
    "                b = ord(words[j][k]) - ord('a')\n",
    "                matrix[a][b]=1\n",
    "                break\n",
    "    return matrix\n",
    "def dfs(current):\n",
    "    seen[current]=1\n",
    "    for there in range(len(matrix)):\n",
    "        if matrix[current][there] and not seen[there]:\n",
    "            dfs(there)\n",
    "    order.append(current)\n",
    "def topologicalSort():\n",
    "    for i in range(1,len(matrix)):\n",
    "        if not seen[i]:\n",
    "            dfs(i)\n",
    "    order = order[::-1]\n",
    "    for i in range(1,len(matrix)):\n",
    "        for j in range(1, len(matrix)):\n",
    "            if matrix[order[j][order[i]]]:\n",
    "                return None\n",
    "    return order"
   ]
  },
  {
   "cell_type": "code",
   "execution_count": 17,
   "id": "df2f4a89",
   "metadata": {},
   "outputs": [
    {
     "ename": "KeyboardInterrupt",
     "evalue": "Interrupted by user",
     "output_type": "error",
     "traceback": [
      "\u001b[0;31m---------------------------------------------------------------------------\u001b[0m",
      "\u001b[0;31mKeyboardInterrupt\u001b[0m                         Traceback (most recent call last)",
      "Cell \u001b[0;32mIn[17], line 1\u001b[0m\n\u001b[0;32m----> 1\u001b[0m C\u001b[38;5;241m=\u001b[39m\u001b[38;5;28mint\u001b[39m(\u001b[38;5;28;43minput\u001b[39;49m\u001b[43m(\u001b[49m\u001b[43m)\u001b[49m)\n\u001b[1;32m      2\u001b[0m \u001b[38;5;28;01mfor\u001b[39;00m i \u001b[38;5;129;01min\u001b[39;00m \u001b[38;5;28mrange\u001b[39m(C):\n\u001b[1;32m      3\u001b[0m     n \u001b[38;5;241m=\u001b[39m \u001b[38;5;28mint\u001b[39m(\u001b[38;5;28minput\u001b[39m())\n",
      "File \u001b[0;32m/Library/Frameworks/Python.framework/Versions/3.9/lib/python3.9/site-packages/ipykernel/kernelbase.py:1191\u001b[0m, in \u001b[0;36mKernel.raw_input\u001b[0;34m(self, prompt)\u001b[0m\n\u001b[1;32m   1189\u001b[0m     msg \u001b[38;5;241m=\u001b[39m \u001b[38;5;124m\"\u001b[39m\u001b[38;5;124mraw_input was called, but this frontend does not support input requests.\u001b[39m\u001b[38;5;124m\"\u001b[39m\n\u001b[1;32m   1190\u001b[0m     \u001b[38;5;28;01mraise\u001b[39;00m StdinNotImplementedError(msg)\n\u001b[0;32m-> 1191\u001b[0m \u001b[38;5;28;01mreturn\u001b[39;00m \u001b[38;5;28;43mself\u001b[39;49m\u001b[38;5;241;43m.\u001b[39;49m\u001b[43m_input_request\u001b[49m\u001b[43m(\u001b[49m\n\u001b[1;32m   1192\u001b[0m \u001b[43m    \u001b[49m\u001b[38;5;28;43mstr\u001b[39;49m\u001b[43m(\u001b[49m\u001b[43mprompt\u001b[49m\u001b[43m)\u001b[49m\u001b[43m,\u001b[49m\n\u001b[1;32m   1193\u001b[0m \u001b[43m    \u001b[49m\u001b[38;5;28;43mself\u001b[39;49m\u001b[38;5;241;43m.\u001b[39;49m\u001b[43m_parent_ident\u001b[49m\u001b[43m[\u001b[49m\u001b[38;5;124;43m\"\u001b[39;49m\u001b[38;5;124;43mshell\u001b[39;49m\u001b[38;5;124;43m\"\u001b[39;49m\u001b[43m]\u001b[49m\u001b[43m,\u001b[49m\n\u001b[1;32m   1194\u001b[0m \u001b[43m    \u001b[49m\u001b[38;5;28;43mself\u001b[39;49m\u001b[38;5;241;43m.\u001b[39;49m\u001b[43mget_parent\u001b[49m\u001b[43m(\u001b[49m\u001b[38;5;124;43m\"\u001b[39;49m\u001b[38;5;124;43mshell\u001b[39;49m\u001b[38;5;124;43m\"\u001b[39;49m\u001b[43m)\u001b[49m\u001b[43m,\u001b[49m\n\u001b[1;32m   1195\u001b[0m \u001b[43m    \u001b[49m\u001b[43mpassword\u001b[49m\u001b[38;5;241;43m=\u001b[39;49m\u001b[38;5;28;43;01mFalse\u001b[39;49;00m\u001b[43m,\u001b[49m\n\u001b[1;32m   1196\u001b[0m \u001b[43m\u001b[49m\u001b[43m)\u001b[49m\n",
      "File \u001b[0;32m/Library/Frameworks/Python.framework/Versions/3.9/lib/python3.9/site-packages/ipykernel/kernelbase.py:1234\u001b[0m, in \u001b[0;36mKernel._input_request\u001b[0;34m(self, prompt, ident, parent, password)\u001b[0m\n\u001b[1;32m   1231\u001b[0m \u001b[38;5;28;01mexcept\u001b[39;00m \u001b[38;5;167;01mKeyboardInterrupt\u001b[39;00m:\n\u001b[1;32m   1232\u001b[0m     \u001b[38;5;66;03m# re-raise KeyboardInterrupt, to truncate traceback\u001b[39;00m\n\u001b[1;32m   1233\u001b[0m     msg \u001b[38;5;241m=\u001b[39m \u001b[38;5;124m\"\u001b[39m\u001b[38;5;124mInterrupted by user\u001b[39m\u001b[38;5;124m\"\u001b[39m\n\u001b[0;32m-> 1234\u001b[0m     \u001b[38;5;28;01mraise\u001b[39;00m \u001b[38;5;167;01mKeyboardInterrupt\u001b[39;00m(msg) \u001b[38;5;28;01mfrom\u001b[39;00m \u001b[38;5;28mNone\u001b[39m\n\u001b[1;32m   1235\u001b[0m \u001b[38;5;28;01mexcept\u001b[39;00m \u001b[38;5;167;01mException\u001b[39;00m:\n\u001b[1;32m   1236\u001b[0m     \u001b[38;5;28mself\u001b[39m\u001b[38;5;241m.\u001b[39mlog\u001b[38;5;241m.\u001b[39mwarning(\u001b[38;5;124m\"\u001b[39m\u001b[38;5;124mInvalid Message:\u001b[39m\u001b[38;5;124m\"\u001b[39m, exc_info\u001b[38;5;241m=\u001b[39m\u001b[38;5;28;01mTrue\u001b[39;00m)\n",
      "\u001b[0;31mKeyboardInterrupt\u001b[0m: Interrupted by user"
     ]
    }
   ],
   "source": [
    "C=int(input())\n",
    "for i in range(C):\n",
    "    n = int(input())\n",
    "    strings = []\n",
    "    order=[]\n",
    "    for k in range(n):\n",
    "        string=sys.stdin.readline()\n",
    "        strings.append(string)\n",
    "    matrix = makeGraph(strings)\n",
    "    seen = [0 for i in range(len(matrix))]\n",
    "    print(topologicalSort())"
   ]
  },
  {
   "cell_type": "markdown",
   "id": "79de8a46",
   "metadata": {},
   "source": [
    "<h1>끝말잇기</h1>"
   ]
  },
  {
   "cell_type": "code",
   "execution_count": 27,
   "id": "bb42b687",
   "metadata": {},
   "outputs": [
    {
     "name": "stdout",
     "output_type": "stream",
     "text": [
      "IMPOSSIBLE\n"
     ]
    }
   ],
   "source": [
    "strings = ['aa','cd']\n",
    "def make_graph(strings):\n",
    "    n=len(strings)\n",
    "    matrix = [[0 for i in range(n)] for i in range(n)]\n",
    "    for i in range(len(strings)):\n",
    "        for j in range(i+1,len(strings)):\n",
    "            if strings[i][0] == strings [j][-1]:\n",
    "                matrix[j][i]=1\n",
    "            if strings[i][-1] == strings[j][0]:\n",
    "                matrix[i][j]=1\n",
    "    return matrix\n",
    "def dfsAll(graph):\n",
    "    for i in range(len(graph)):\n",
    "        seen=[0 for k in range(len(graph))]\n",
    "        order=[]\n",
    "        dfs(graph,i,seen,order)\n",
    "        if sum(seen) == len(graph):\n",
    "            print(order)\n",
    "            return\n",
    "    print('IMPOSSIBLE')\n",
    "def dfs(graph,current,seen,order):\n",
    "    seen[current]=1\n",
    "    order.append(current)\n",
    "    for i in range(len(graph)):\n",
    "        if graph[current][i] == 1 and not seen[i]:\n",
    "            dfs(graph,i,seen,order)\n",
    "dfsAll(make_graph(strings))"
   ]
  },
  {
   "cell_type": "code",
   "execution_count": null,
   "id": "98a0cc43",
   "metadata": {},
   "outputs": [],
   "source": []
  }
 ],
 "metadata": {
  "kernelspec": {
   "display_name": "Python 3 (ipykernel)",
   "language": "python",
   "name": "python3"
  },
  "language_info": {
   "codemirror_mode": {
    "name": "ipython",
    "version": 3
   },
   "file_extension": ".py",
   "mimetype": "text/x-python",
   "name": "python",
   "nbconvert_exporter": "python",
   "pygments_lexer": "ipython3",
   "version": "3.9.6"
  }
 },
 "nbformat": 4,
 "nbformat_minor": 5
}
