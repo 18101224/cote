{
 "cells": [
  {
   "cell_type": "code",
   "execution_count": 12,
   "id": "9fdc5359",
   "metadata": {},
   "outputs": [],
   "source": [
    "data='({}[(){}])'\n",
    "stack=[]\n",
    "#짝을 찾는 문제 였다.  .\n",
    "def check(string):\n",
    "    for s in string :\n",
    "        if len(stack) == 0 :\n",
    "            stack.append(s)\n",
    "        else:\n",
    "            if checkBelow(stack[-1],s):\n",
    "                stack.pop(-1)\n",
    "            else:\n",
    "                if s == '}' or s==')' or s==']':\n",
    "                    return False\n",
    "                else:\n",
    "                    stack.append(s)\n",
    "    if len(stack) == 0 :\n",
    "        return True\n",
    "    else:\n",
    "        return False"
   ]
  },
  {
   "cell_type": "code",
   "execution_count": 8,
   "id": "8d3c6e01",
   "metadata": {},
   "outputs": [],
   "source": [
    "def checkBelow(s,find):\n",
    "    if s == '(':\n",
    "        if find == ')':\n",
    "            return True\n",
    "    elif s == '{':\n",
    "        if find == '}':\n",
    "            return True\n",
    "    elif s == '[':\n",
    "        if find == ']':\n",
    "            return True\n",
    "    else:\n",
    "        return False"
   ]
  },
  {
   "cell_type": "code",
   "execution_count": 13,
   "id": "61af2345",
   "metadata": {},
   "outputs": [
    {
     "data": {
      "text/plain": [
       "True"
      ]
     },
     "execution_count": 13,
     "metadata": {},
     "output_type": "execute_result"
    }
   ],
   "source": [
    "check(data)"
   ]
  },
  {
   "cell_type": "markdown",
   "id": "7becd16c",
   "metadata": {},
   "source": [
    "<h1>외계인 신호</h1>"
   ]
  },
  {
   "cell_type": "code",
   "execution_count": 89,
   "id": "055f6cca",
   "metadata": {},
   "outputs": [],
   "source": [
    "A=[1983]\n",
    "N=5000\n",
    "for i in range(1,N):\n",
    "    A.append((A[i-1]*214013+2531011)%(2**32))\n",
    "for i in range(len(A)):\n",
    "    A[i]=A[i]%10000+1"
   ]
  },
  {
   "cell_type": "code",
   "execution_count": 83,
   "id": "946fbbfc",
   "metadata": {},
   "outputs": [],
   "source": [
    "K=5265"
   ]
  },
  {
   "cell_type": "code",
   "execution_count": 84,
   "id": "dc952dc0",
   "metadata": {},
   "outputs": [],
   "source": [
    "def count(A):\n",
    "    temp = []\n",
    "    count = 0\n",
    "    for i in range(len(A)):\n",
    "        if sum(temp) == K :\n",
    "            print(temp,i)\n",
    "            count+=1\n",
    "            temp.pop(0)\n",
    "            if A[i]>K :\n",
    "                temp=[]\n",
    "            else:\n",
    "                temp.append(A[i])\n",
    "        elif sum(temp) < K :\n",
    "            if A[i]> K :\n",
    "                temp=[]\n",
    "            else:\n",
    "                temp.append(A[i])\n",
    "        else:\n",
    "            while sum(temp) > K:\n",
    "                temp.pop(0)\n",
    "            if sum(temp) == K :\n",
    "                count+=1\n",
    "                if A[i] > K:\n",
    "                    temp=[]\n",
    "                else:\n",
    "                    temp.append(A[i])\n",
    "            else:\n",
    "                if A[i] > K:\n",
    "                    temp=[]\n",
    "                else:\n",
    "                    temp.append(A[i])\n",
    "    if sum(temp) == K :\n",
    "        count+=1\n",
    "    return count"
   ]
  },
  {
   "cell_type": "code",
   "execution_count": 82,
   "id": "8ba55f6b",
   "metadata": {},
   "outputs": [
    {
     "data": {
      "text/plain": [
       "(4367, 1258)"
      ]
     },
     "execution_count": 82,
     "metadata": {},
     "output_type": "execute_result"
    }
   ],
   "source": [
    "A[2009],A[2010]"
   ]
  },
  {
   "cell_type": "code",
   "execution_count": null,
   "id": "baab4e38",
   "metadata": {},
   "outputs": [],
   "source": []
  }
 ],
 "metadata": {
  "kernelspec": {
   "display_name": "Python 3 (ipykernel)",
   "language": "python",
   "name": "python3"
  },
  "language_info": {
   "codemirror_mode": {
    "name": "ipython",
    "version": 3
   },
   "file_extension": ".py",
   "mimetype": "text/x-python",
   "name": "python",
   "nbconvert_exporter": "python",
   "pygments_lexer": "ipython3",
   "version": "3.9.7"
  }
 },
 "nbformat": 4,
 "nbformat_minor": 5
}
