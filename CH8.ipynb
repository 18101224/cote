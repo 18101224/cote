{
 "cells": [
  {
   "cell_type": "code",
   "execution_count": 1,
   "id": "847838be",
   "metadata": {},
   "outputs": [],
   "source": [
    "import numpy as np"
   ]
  },
  {
   "cell_type": "markdown",
   "id": "55695e54",
   "metadata": {},
   "source": [
    "<h1>외발뛰기 문제</h1>"
   ]
  },
  {
   "cell_type": "code",
   "execution_count": 19,
   "id": "943b78a1",
   "metadata": {},
   "outputs": [],
   "source": [
    "matrix=np.array([[2,5,1,6,1,4,1]\n",
    "                ,[6,1,1,2,2,9,3]\n",
    "               ,[7,2,3,2,1,3,1]\n",
    "               ,[1,1,3,1,7,1,2]\n",
    "               ,[4,1,2,3,4,1,2]\n",
    "               ,[3,3,1,2,3,4,1]\n",
    "               ,[1,5,2,9,4,7,0]])"
   ]
  },
  {
   "cell_type": "code",
   "execution_count": 27,
   "id": "dd6fa9d3",
   "metadata": {},
   "outputs": [],
   "source": [
    "def iterate(temp):\n",
    "    step=matrix[temp[-1]]\n",
    "    position=temp[-1]\n",
    "    temp2=[]\n",
    "    now=temp\n",
    "    for i in [-1*step,step]:\n",
    "        for j in [-1*step,step]:\n",
    "            if (i+position[0]>=0 and i+position[0]<len(matrix[0])) and (j+position[1]>=0 and j+position[1]<len(matrix[0])):\n",
    "                temp2.append((i,j))\n",
    "    j=0\n",
    "    while j<len(temp2):\n",
    "        if temp2[j] in now:\n",
    "            temp2.pop(j)\n",
    "        else:\n",
    "            j+=1\n",
    "    if len(temp2)==0:\n",
    "        return []\n",
    "    else:\n",
    "        result=[]\n",
    "        for point in temp2:\n",
    "            temp3=iterate(now+[point])\n",
    "            for k in range(len(temp3)):\n",
    "                result.append(now+temp3[k])\n",
    "        return result"
   ]
  },
  {
   "cell_type": "code",
   "execution_count": 28,
   "id": "d9a81174",
   "metadata": {},
   "outputs": [
    {
     "data": {
      "text/plain": [
       "[]"
      ]
     },
     "execution_count": 28,
     "metadata": {},
     "output_type": "execute_result"
    }
   ],
   "source": [
    "iterate([(0,0)])"
   ]
  },
  {
   "cell_type": "markdown",
   "id": "410ada2b",
   "metadata": {},
   "source": [
    "<h2>와일드카드</h2>"
   ]
  },
  {
   "cell_type": "code",
   "execution_count": 30,
   "id": "1d69a01f",
   "metadata": {},
   "outputs": [],
   "source": [
    "test=['he?p','*p*','*bb*']\n",
    "data=[['help','heap','helpp'],['help','papa','hello'],['babbbc']]"
   ]
  },
  {
   "cell_type": "code",
   "execution_count": 105,
   "id": "de3c7828",
   "metadata": {},
   "outputs": [],
   "source": [
    "def parsing(string):\n",
    "    result=[]\n",
    "    indice=[]\n",
    "    isFirst=True\n",
    "    for index in range(len(string)):\n",
    "        if string[index]=='*':\n",
    "            if isFirst:\n",
    "                result.append(string[:index])\n",
    "                result.append(string[index])\n",
    "                indice.append(index)\n",
    "                isFirst=False\n",
    "            else:\n",
    "                result.append(string[indice[-1]+1:index])\n",
    "                result.append(string[index])\n",
    "                indice.append(index)\n",
    "    result.append(string[indice[-1]+1:])\n",
    "    return result"
   ]
  },
  {
   "cell_type": "code",
   "execution_count": 106,
   "id": "d7849933",
   "metadata": {},
   "outputs": [
    {
     "data": {
      "text/plain": [
       "['abc', '*', 'def', '*', 'qqq']"
      ]
     },
     "execution_count": 106,
     "metadata": {},
     "output_type": "execute_result"
    }
   ],
   "source": [
    "parsing('abc*def*qqq')"
   ]
  },
  {
   "cell_type": "code",
   "execution_count": null,
   "id": "04e1d088",
   "metadata": {},
   "outputs": [],
   "source": [
    "def reculsive(string,temp,star,):\n",
    "    for index in range(len(temp)):\n",
    "        if voca == '*':\n",
    "            star=True\n",
    "            continue"
   ]
  },
  {
   "cell_type": "code",
   "execution_count": 31,
   "id": "cd072b2e",
   "metadata": {},
   "outputs": [],
   "source": [
    "def extract(string):\n",
    "    result=[]\n",
    "    for index in range(len(string)):\n",
    "        if string[index]=='?' or string[index]=='*':\n",
    "            result.append((index,string[index]))\n",
    "    return result"
   ]
  },
  {
   "cell_type": "code",
   "execution_count": null,
   "id": "9227b372",
   "metadata": {},
   "outputs": [],
   "source": [
    "def question():\n",
    "    pass\n",
    "def star():\n",
    "    pass"
   ]
  },
  {
   "cell_type": "code",
   "execution_count": null,
   "id": "da0964dc",
   "metadata": {},
   "outputs": [],
   "source": [
    "def wild(wildcard,container):\n",
    "    wilds=extract(wildcard)\n",
    "    #여러개 있을 때 \n",
    "    if len(wilds) !=1 :\n",
    "        temp=[]\n",
    "        #맨 처음\n",
    "        (index,card)=wilds[0]\n",
    "        for voca in container:\n",
    "                if voca[:index] == wildcard[:index]:\n",
    "                    if card=='?':\n",
    "                        temp.append((voca,index+1))\n",
    "                    else: #여기 포문 범위 확인\n",
    "                        for index2 in range(index,len(voca)):\n",
    "                            if voca[index2] == wildcard[index+1]:\n",
    "                                temp.append((voca,index2))\n",
    "                                break\n",
    "        else:\n",
    "        #중간\n",
    "            for i in range(1,len(wilds)-1):\n",
    "                index,card=wilds[i]\n",
    "                if card=='?':\n",
    "                    for voca in temp:\n",
    "                        if voca[0][voca[1]:] \n",
    "                if card=='*':\n",
    "        #맨끝\n",
    "    \n",
    "    #한개 있을 때\n",
    "    else:\n",
    "        "
   ]
  },
  {
   "cell_type": "markdown",
   "id": "97b5383a",
   "metadata": {},
   "source": [
    "<h2>합친LIS</h2>"
   ]
  },
  {
   "cell_type": "code",
   "execution_count": 120,
   "id": "7a824833",
   "metadata": {},
   "outputs": [],
   "source": [
    "#각 수열의 증가수열 찾기\n",
    "#긴 쪽에 끼워맞추기\n",
    "#왜 동적계획법인지는 모르겠다.\n",
    "A=[1,2,4]\n",
    "B=[3,4,7]\n",
    "def find(data):\n",
    "    result=[]\n",
    "    index=data.index(min(data))\n",
    "    for i in range(len(data)): #뒤에서부터하면 동적계획법을 이용할 수 있지 않을까\n",
    "        temp=[data[i]]\n",
    "        for j in range(i+1,len(data)):\n",
    "            if temp[-1] < data[j]:\n",
    "                temp.append(data[j])\n",
    "        result.append((len(temp),temp))\n",
    "    result.sort()\n",
    "    return result[-1][1]\n",
    "def now(tempA,test2):\n",
    "    j=0\n",
    "    temp1=[]\n",
    "    for index in range(len(tempA)):\n",
    "        temp=[]\n",
    "        while j<len(test2) :\n",
    "            if tempA[index]>test2[j]: #2,1 이어도 됐다이거다. \n",
    "                temp.append(test2[j])\n",
    "            j+=1\n",
    "        temp1=temp1+temp+[tempA[index]]\n",
    "        temp=[0]\n",
    "        if index==len(tempA)-1:\n",
    "            while j < len(test2):\n",
    "                if tempA[index]<test2[j] and temp[-1]<test2[j]:\n",
    "                    temp.append(test2[j])\n",
    "                j+=1\n",
    "            temp=temp[1:]\n",
    "            temp1=temp1+temp\n",
    "    return temp1\n",
    "def LIS(test1,test2):\n",
    "    tempA=find(test1)\n",
    "    tempB=find(test2)\n",
    "    temp1=now(tempA,test2)\n",
    "    temp2=now(tempB,test1)\n",
    "    if len(temp1)>len(temp2):\n",
    "        return temp1\n",
    "    else:\n",
    "        return temp2"
   ]
  },
  {
   "cell_type": "code",
   "execution_count": 122,
   "id": "7f821629",
   "metadata": {},
   "outputs": [
    {
     "data": {
      "text/plain": [
       "[1, 2, 3, 4, 7]"
      ]
     },
     "execution_count": 122,
     "metadata": {},
     "output_type": "execute_result"
    }
   ],
   "source": [
    "LIS(A,B)"
   ]
  },
  {
   "cell_type": "markdown",
   "id": "0c208080",
   "metadata": {},
   "source": [
    "<h2>원주율외우기</h2>"
   ]
  },
  {
   "cell_type": "markdown",
   "id": "1406185e",
   "metadata": {},
   "source": [
    "<h3>숫자별로 난이도 .. </h3>"
   ]
  },
  {
   "cell_type": "code",
   "execution_count": null,
   "id": "c35505c6",
   "metadata": {},
   "outputs": [],
   "source": [
    "test=[]"
   ]
  },
  {
   "cell_type": "code",
   "execution_count": 321,
   "id": "46e3fb86",
   "metadata": {},
   "outputs": [],
   "source": [
    "def classify(string):\n",
    "    one = 0\n",
    "    ab = int(string[1])-int(string[0])\n",
    "    twoPlus = 0\n",
    "    twoMinus = 0\n",
    "    swap = 0\n",
    "    five = 0\n",
    "    for index in range(1,len(string)):\n",
    "        if string[index]==string[index-1]:\n",
    "            one+=1\n",
    "        if int(string[index])-int(string[index-1]) == 1 :\n",
    "            twoPlus+=1\n",
    "        if int(string[index])-int(string[index-1]) == -1 :\n",
    "            twoMinus+=1\n",
    "        if int(string[index])-int(string[index-1]) == ab :\n",
    "            five+=1\n",
    "        if index>=2 and string[index]==string[index-2]:\n",
    "            swap+=1\n",
    "    if one == len(string)-1 :\n",
    "        return 1\n",
    "    elif twoPlus == len(string)-1 or twoMinus == len(string)-1 :\n",
    "        return 2\n",
    "    elif swap == len(string)-2 :\n",
    "        return 4\n",
    "    elif five == len(string)-1:\n",
    "        return 5\n",
    "    else:\n",
    "        return 10"
   ]
  },
  {
   "cell_type": "code",
   "execution_count": 327,
   "id": "5eea9c33",
   "metadata": {},
   "outputs": [],
   "source": [
    "string='12673939'"
   ]
  },
  {
   "cell_type": "code",
   "execution_count": null,
   "id": "9fcfa955",
   "metadata": {},
   "outputs": [],
   "source": [
    "mem=[9999 for i in range()]"
   ]
  },
  {
   "cell_type": "code",
   "execution_count": 326,
   "id": "3345cc4e",
   "metadata": {},
   "outputs": [],
   "source": [
    "def memorize(ind):\n",
    "    if (ind==len(string)): return 0\n",
    "    for L in range(3,6):\n",
    "        if ind+L <= len(string):\n",
    "            mem[ind]=min(mem[ind],memorize(ind+L)+classify(string[ind:ind+L]))\n",
    "    return mem[ind]"
   ]
  },
  {
   "cell_type": "code",
   "execution_count": null,
   "id": "8330eb12",
   "metadata": {},
   "outputs": [],
   "source": []
  },
  {
   "cell_type": "markdown",
   "id": "ed181214",
   "metadata": {},
   "source": [
    "<h2>Quantization</h2>"
   ]
  },
  {
   "cell_type": "code",
   "execution_count": 179,
   "id": "45fcfc11",
   "metadata": {},
   "outputs": [],
   "source": [
    "from sklearn.cluster import KMeans"
   ]
  },
  {
   "cell_type": "code",
   "execution_count": 230,
   "id": "9800ffbf",
   "metadata": {},
   "outputs": [],
   "source": [
    "data=sorted([1,744,755,4,897,890,902,6,777])\n",
    "n=9\n",
    "s=3"
   ]
  },
  {
   "cell_type": "code",
   "execution_count": 254,
   "id": "284ca3f3",
   "metadata": {},
   "outputs": [],
   "source": [
    "def clustering(samples,n,s,distance):\n",
    "    if type(samples[0])==int:\n",
    "        result=[]\n",
    "        indice=[]\n",
    "        term=n//s\n",
    "        for i in range(s):\n",
    "            indice.append(round(i*term+term/2))\n",
    "        for index in range(len(samples)):\n",
    "            i=findCenter(samples[index],samples,indice)\n",
    "            result.append([samples[index],i])\n",
    "        return clustering(result,n,s,10000)\n",
    "    else:\n",
    "        means=[[] for i in range(s)]\n",
    "        for index in range(len(samples)):\n",
    "            means[samples[index][1]].append(samples[index][0])\n",
    "        mean = []\n",
    "        distans=[]\n",
    "        temp=[]\n",
    "        for i in range(s):\n",
    "            if len(means[i])==0:\n",
    "                continue\n",
    "            else:\n",
    "                mean.append(round(sum(means[i])/len(means[i])))\n",
    "        for index in range(len(samples)):\n",
    "            i,dis=center(samples[index],mean)\n",
    "            temp.append([samples[index][0],i])\n",
    "            distans.append(dis)\n",
    "        if sum(distans)==distance:\n",
    "            return temp\n",
    "        else:\n",
    "            return clustering(temp,n,s,sum(distans))"
   ]
  },
  {
   "cell_type": "code",
   "execution_count": 252,
   "id": "4bdb2474",
   "metadata": {},
   "outputs": [],
   "source": [
    "def findCenter(example,samples,indice):\n",
    "    result=10000\n",
    "    temp=0\n",
    "    for index in range(len(indice)):\n",
    "        if result>abs(example-samples[indice[index]]):\n",
    "            result=abs(example-samples[indice[index]])\n",
    "            temp=index\n",
    "    return temp"
   ]
  },
  {
   "cell_type": "code",
   "execution_count": 256,
   "id": "be24c9d2",
   "metadata": {},
   "outputs": [],
   "source": [
    "def center(example,means):\n",
    "    temp1=10000\n",
    "    temp2=0\n",
    "\n",
    "    for i in range(len(means)):\n",
    "        if abs(means[i]-example[0]) < temp1:\n",
    "            temp1=abs(means[i]-example[0])\n",
    "            temp2=i\n",
    "    return temp2,temp1**2"
   ]
  },
  {
   "cell_type": "code",
   "execution_count": 257,
   "id": "cb975192",
   "metadata": {},
   "outputs": [
    {
     "data": {
      "text/plain": [
       "[[1, 0],\n",
       " [4, 0],\n",
       " [6, 0],\n",
       " [744, 1],\n",
       " [755, 1],\n",
       " [777, 1],\n",
       " [890, 2],\n",
       " [897, 2],\n",
       " [902, 2]]"
      ]
     },
     "execution_count": 257,
     "metadata": {},
     "output_type": "execute_result"
    }
   ],
   "source": [
    "clustering(data,n,s,10000)"
   ]
  },
  {
   "cell_type": "code",
   "execution_count": 190,
   "id": "09542a52",
   "metadata": {},
   "outputs": [],
   "source": [
    "model=KMeans(n_clusters=s)"
   ]
  },
  {
   "cell_type": "code",
   "execution_count": 191,
   "id": "17b6cdd8",
   "metadata": {},
   "outputs": [],
   "source": [
    "import pandas as pd\n",
    "data=pd.DataFrame(data)"
   ]
  },
  {
   "cell_type": "code",
   "execution_count": 192,
   "id": "181230b3",
   "metadata": {},
   "outputs": [
    {
     "data": {
      "text/plain": [
       "KMeans(n_clusters=3)"
      ]
     },
     "execution_count": 192,
     "metadata": {},
     "output_type": "execute_result"
    }
   ],
   "source": [
    "model.fit(data)"
   ]
  },
  {
   "cell_type": "code",
   "execution_count": 193,
   "id": "3557a3ea",
   "metadata": {},
   "outputs": [],
   "source": [
    "result=model.predict(data)"
   ]
  },
  {
   "cell_type": "code",
   "execution_count": 194,
   "id": "39abcebf",
   "metadata": {},
   "outputs": [],
   "source": [
    "data=pd.concat((data,pd.Series(result)),axis=1)"
   ]
  },
  {
   "cell_type": "code",
   "execution_count": 195,
   "id": "f7e5a33c",
   "metadata": {
    "scrolled": true
   },
   "outputs": [],
   "source": [
    "result=[[] for i in range(s)]\n",
    "for row in range(len(data)):\n",
    "    result[data.iloc[row].iloc[1]].append(data.iloc[row].iloc[0])"
   ]
  },
  {
   "cell_type": "code",
   "execution_count": 197,
   "id": "b1966e04",
   "metadata": {},
   "outputs": [
    {
     "data": {
      "text/plain": [
       "[[2, 2, 2, 2], [3, 3, 3, 3], [1, 1]]"
      ]
     },
     "execution_count": 197,
     "metadata": {},
     "output_type": "execute_result"
    }
   ],
   "source": [
    "result"
   ]
  },
  {
   "cell_type": "code",
   "execution_count": 198,
   "id": "a458e83c",
   "metadata": {
    "scrolled": true
   },
   "outputs": [
    {
     "name": "stdout",
     "output_type": "stream",
     "text": [
      "0\n"
     ]
    }
   ],
   "source": [
    "mse=0\n",
    "for i in result:\n",
    "    mean=round(sum(i)/len(i))\n",
    "    for j in i:\n",
    "        mse+=(j-mean)**2\n",
    "print(mse)"
   ]
  },
  {
   "cell_type": "markdown",
   "id": "4fe7afd1",
   "metadata": {},
   "source": [
    "<h2>비대칭 타일링</h2>"
   ]
  },
  {
   "cell_type": "code",
   "execution_count": 286,
   "id": "d895b656",
   "metadata": {},
   "outputs": [],
   "source": [
    "#그냥 타일링 동적계획\n",
    "tile=[1,2]\n",
    "def tiling(n):\n",
    "    if n == 2:\n",
    "        return 2\n",
    "    elif n==1:\n",
    "        return 1\n",
    "    else:\n",
    "        if len(tile) >= n : #동적계획 파이썬버전\n",
    "            return tile[n-1전\n",
    "        else:\n",
    "            tile.append(tiling(n-2)+tiling(n-1))\n",
    "            return tile[-1]"
   ]
  },
  {
   "cell_type": "code",
   "execution_count": 288,
   "id": "dbcf6732",
   "metadata": {},
   "outputs": [],
   "source": [
    "#그냥 타일링 재귀호출\n",
    "def tilin(n):\n",
    "    if n==2:\n",
    "        return 2\n",
    "    elif n==1:\n",
    "        return 1\n",
    "    else:\n",
    "        return tiling(n-2)+tiling(n-1)"
   ]
  },
  {
   "cell_type": "code",
   "execution_count": null,
   "id": "96654077",
   "metadata": {},
   "outputs": [],
   "source": []
  },
  {
   "cell_type": "code",
   "execution_count": 296,
   "id": "f1ac8ed2",
   "metadata": {},
   "outputs": [],
   "source": [
    "def noDecal(n):\n",
    "    total = tiling(n)\n",
    "    if n%2 == 0:\n",
    "        return total - tile[n//2-1] - tile[(n//2-1)-1] #맨 마지막항을 생각하지 못했다.\n",
    "    else:\n",
    "        return total - tile[((n-1)//2)-1]"
   ]
  },
  {
   "cell_type": "code",
   "execution_count": 297,
   "id": "7eeb998a",
   "metadata": {},
   "outputs": [
    {
     "data": {
      "text/plain": [
       "913227494"
      ]
     },
     "execution_count": 297,
     "metadata": {},
     "output_type": "execute_result"
    }
   ],
   "source": [
    "noDecal(92)%1000000007"
   ]
  },
  {
   "cell_type": "markdown",
   "id": "b86307b6",
   "metadata": {},
   "source": [
    "<h2>폴리오미노</h2>"
   ]
  },
  {
   "cell_type": "code",
   "execution_count": null,
   "id": "f55687e9",
   "metadata": {},
   "outputs": [],
   "source": [
    "#자연수분할\n",
    "def split(n):\n",
    "    result = []\n",
    "    for s in range(1,n+1):\n",
    "        temp = [n-s-1] + [ 1 for i in range(s-1)]\n",
    "        while temp[-2]-temp[-1] > 1 :\n",
    "            for i in range(len(temp)-1):\n",
    "                if temp[i]!=temp[i+1]:\n",
    "                    temp[i]-=1\n",
    "                    temp[i+1]+=1\n",
    "                    result.append(temp)\n",
    "                    break\n",
    "        "
   ]
  },
  {
   "cell_type": "code",
   "execution_count": 320,
   "id": "0f57018d",
   "metadata": {},
   "outputs": [
    {
     "name": "stdout",
     "output_type": "stream",
     "text": [
      "[5, 1, 1]\n",
      "[4, 2, 1]\n",
      "[3, 3, 1]\n",
      "[3, 2, 2]\n"
     ]
    }
   ],
   "source": [
    "n=7\n",
    "s=3\n",
    "result=[]\n",
    "temp = [n-s+1] + [ 1 for i in range(s-1)]\n",
    "result.append(temp)\n",
    "print(temp)\n",
    "while temp[0]-temp[-1]>1 :\n",
    "    for i in range(len(temp)-1):\n",
    "        if temp[i]!=temp[i+1]:\n",
    "            temp[i]-=1\n",
    "            temp[i+1]+=1\n",
    "            print(temp)\n",
    "            result.append(temp)\n",
    "            break\n",
    "            "
   ]
  },
  {
   "cell_type": "code",
   "execution_count": 328,
   "id": "925f75c8",
   "metadata": {},
   "outputs": [],
   "source": [
    "mem = [[0 for i in range(n)] for i in range(n)]"
   ]
  },
  {
   "cell_type": "code",
   "execution_count": 332,
   "id": "83b192b6",
   "metadata": {},
   "outputs": [],
   "source": [
    "Mod=10*1000*1000"
   ]
  },
  {
   "cell_type": "code",
   "execution_count": 329,
   "id": "464aeccd",
   "metadata": {},
   "outputs": [],
   "source": [
    "def poly(n,first):\n",
    "    if n == first :\n",
    "        return 1\n",
    "    if mem[n][first] != 0 :\n",
    "        return mem[n][first]\n",
    "    for second in range(1,n-first+1):\n",
    "        add = second + first -1\n",
    "        add *= poly(n-first,second)\n",
    "        add %= Mod\n",
    "        mem[n][first] += add\n",
    "        mem[n][first] %= Mod\n",
    "    return mem[n][first]"
   ]
  },
  {
   "cell_type": "code",
   "execution_count": 333,
   "id": "c5d7a62c",
   "metadata": {},
   "outputs": [],
   "source": [
    "result = 0\n",
    "for i in range(1,5):\n",
    "    result+=poly(4,i)"
   ]
  },
  {
   "cell_type": "code",
   "execution_count": 334,
   "id": "3d32fcc8",
   "metadata": {},
   "outputs": [
    {
     "data": {
      "text/plain": [
       "19"
      ]
     },
     "execution_count": 334,
     "metadata": {},
     "output_type": "execute_result"
    }
   ],
   "source": [
    "result"
   ]
  },
  {
   "cell_type": "markdown",
   "id": "f3307b67",
   "metadata": {},
   "source": [
    "<h2>두니발 박사의 탈옥</h2>"
   ]
  },
  {
   "cell_type": "markdown",
   "id": "307b6acf",
   "metadata": {},
   "source": [
    "<pre>두니발은 검문을 피해 산길로만 이동한다.\n",
    "두니발은 교도소를 탈출한 당일, 교도소와 인접한 마을 하나로 도망쳐 은신한다.\n",
    "두니발은 수색을 피하기 위해 마일 인접한 마을로 움직여 은신한다.\n",
    "탈옥한지 d일이 지났음.\n",
    "마을이 있고 correlation matrix가 입력으로 주어진다. </pre>"
   ]
  },
  {
   "cell_type": "code",
   "execution_count": 9,
   "id": "77e0beae",
   "metadata": {},
   "outputs": [],
   "source": [
    "correlation = [[0,1,1,1,0],\n",
    "              [1,0,0,0,1],\n",
    "              [1,0,0,0,0],\n",
    "              [1,0,0,0,0],\n",
    "              [0,1,0,0,0]]"
   ]
  },
  {
   "cell_type": "code",
   "execution_count": 13,
   "id": "4798ac02",
   "metadata": {},
   "outputs": [],
   "source": [
    "def search(here,days):\n",
    "    if days==0 : \n",
    "        if (here == p) :\n",
    "            return 1.0 \n",
    "        else:\n",
    "            return 0.0\n",
    "    else:\n",
    "        temp=0\n",
    "        for j in range(len(correlation[0])):\n",
    "            if correlation[here][j] ==1:\n",
    "                temp += search(j,days-1) / sum(correlation[here])\n",
    "        return temp"
   ]
  },
  {
   "cell_type": "code",
   "execution_count": null,
   "id": "218c8d3c",
   "metadata": {},
   "outputs": [],
   "source": []
  }
 ],
 "metadata": {
  "kernelspec": {
   "display_name": "Python 3 (ipykernel)",
   "language": "python",
   "name": "python3"
  },
  "language_info": {
   "codemirror_mode": {
    "name": "ipython",
    "version": 3
   },
   "file_extension": ".py",
   "mimetype": "text/x-python",
   "name": "python",
   "nbconvert_exporter": "python",
   "pygments_lexer": "ipython3",
   "version": "3.9.7"
  }
 },
 "nbformat": 4,
 "nbformat_minor": 5
}
