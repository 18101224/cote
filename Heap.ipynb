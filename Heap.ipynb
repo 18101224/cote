{
 "cells": [
  {
   "cell_type": "code",
   "execution_count": 9,
   "id": "dcbafc55",
   "metadata": {},
   "outputs": [],
   "source": [
    "import math\n",
    "import sys"
   ]
  },
  {
   "cell_type": "code",
   "execution_count": 16,
   "id": "e24ea14b",
   "metadata": {},
   "outputs": [],
   "source": [
    "heap=[]\n",
    "def left(i):\n",
    "    return 2*i+1\n",
    "def right(i):\n",
    "    return 2*i_2\n",
    "def parent(i):\n",
    "    return math.floor((i-1)/2)\n",
    "def maxpush(data,node):\n",
    "    data.append(node)\n",
    "    idx = len(data)-1\n",
    "    while idx > 0 and data[parent(idx)] < data[idx]:\n",
    "        data[idx],data[parent(idx)] = data[parent(idx)],data[idx]\n",
    "        idx = parent(idx)\n",
    "def minpush(data,node):\n",
    "    data.append(node)\n",
    "    idx = len(heap)-1\n",
    "    while idx > 0 and data[parent(idx)] > data[idx]:\n",
    "        data[idx],data[parent(idx)] = data[parent(idx)],data[idx]\n",
    "        idx = parent(idx)\n",
    "def minpop(data):\n",
    "    if len(data)>2:\n",
    "        data.pop(0)\n",
    "        if data[0]>data[1]:\n",
    "            data[0],data[1]=data[1],data[0]\n",
    "    else:\n",
    "        data.pop(0)\n",
    "def maxpop(data):\n",
    "    if len(data)>2:\n",
    "        data.pop(0)\n",
    "        if data[0]<data[1]:\n",
    "            data[0],data[1]=data[1],data[0]\n",
    "    else:\n",
    "        data.pop(0)\n",
    "def where2push(left,right,node):\n",
    "    if len(left)==len(right):\n",
    "        maxpush(left,node)\n",
    "    else:\n",
    "        minpush(right,node)\n",
    "    if len(right)!=0 and len(left)!=0 and right[0] < left[0] :\n",
    "        tempL=left[0]\n",
    "        tempR=right[0]\n",
    "        maxpop(left)\n",
    "        maxpush(left,tempR)\n",
    "        minpop(right)\n",
    "        minpush(right,tempL)"
   ]
  },
  {
   "cell_type": "code",
   "execution_count": null,
   "id": "9ad0439e",
   "metadata": {},
   "outputs": [],
   "source": [
    "def swap(left,right):\n",
    "    left[0],right[0]=right[0],left[0]\n",
    "    idx=0\n",
    "    while True:\n",
    "        if left[left(idx)] > left[idx] and left[idx] < left[right(idx)]:\n",
    "            "
   ]
  },
  {
   "cell_type": "code",
   "execution_count": 11,
   "id": "5ffc03e3",
   "metadata": {},
   "outputs": [
    {
     "name": "stdout",
     "output_type": "stream",
     "text": [
      "3\n"
     ]
    },
    {
     "ename": "TypeError",
     "evalue": "'map' object is not subscriptable",
     "output_type": "error",
     "traceback": [
      "\u001b[0;31m---------------------------------------------------------------------------\u001b[0m",
      "\u001b[0;31mTypeError\u001b[0m                                 Traceback (most recent call last)",
      "Cell \u001b[0;32mIn[11], line 6\u001b[0m\n\u001b[1;32m      4\u001b[0m parameters\u001b[38;5;241m=\u001b[39m\u001b[38;5;28mmap\u001b[39m(\u001b[38;5;28mint\u001b[39m,sys\u001b[38;5;241m.\u001b[39mstdin\u001b[38;5;241m.\u001b[39mreadline()\u001b[38;5;241m.\u001b[39msplit())\n\u001b[1;32m      5\u001b[0m data\u001b[38;5;241m=\u001b[39m[\u001b[38;5;241m1983\u001b[39m]\n\u001b[0;32m----> 6\u001b[0m \u001b[38;5;28;01mfor\u001b[39;00m k \u001b[38;5;129;01min\u001b[39;00m \u001b[38;5;28mrange\u001b[39m(\u001b[38;5;241m1\u001b[39m,\u001b[43mparameters\u001b[49m\u001b[43m[\u001b[49m\u001b[38;5;241;43m0\u001b[39;49m\u001b[43m]\u001b[49m):\n\u001b[1;32m      7\u001b[0m     data\u001b[38;5;241m.\u001b[39mappend((data[k\u001b[38;5;241m-\u001b[39m\u001b[38;5;241m1\u001b[39m]\u001b[38;5;241m*\u001b[39mparameters[\u001b[38;5;241m1\u001b[39m]\u001b[38;5;241m+\u001b[39mparameters[\u001b[38;5;241m2\u001b[39m])\u001b[38;5;241m%\u001b[39m\u001b[38;5;241m20090711\u001b[39m)\n\u001b[1;32m      8\u001b[0m maxheap\u001b[38;5;241m=\u001b[39m[data[\u001b[38;5;241m0\u001b[39m]]\u001b[38;5;66;03m#left\u001b[39;00m\n",
      "\u001b[0;31mTypeError\u001b[0m: 'map' object is not subscriptable"
     ]
    }
   ],
   "source": [
    "n=int(input())\n",
    "result=[]\n",
    "for i in range(n):\n",
    "    parameters=list(map(int,sys.stdin.readline().split()))\n",
    "    data=[1983]\n",
    "    for k in range(1,parameters[0]):\n",
    "        data.append((data[k-1]*parameters[1]+parameters[2])%20090711)\n",
    "    maxheap=[data[0]]#left\n",
    "    minheap=[]#right\n",
    "    result=maxheap[0]\n",
    "    for j in range(1,len(data)):\n",
    "        where2push(maxheap,minheap,data[j])\n",
    "        result+=maxheap[0]\n",
    "        result%=20090711"
   ]
  },
  {
   "cell_type": "code",
   "execution_count": 17,
   "id": "3d3f4776",
   "metadata": {},
   "outputs": [],
   "source": [
    "empty=[]\n",
    "maxpush(empty,7)\n",
    "maxpush(empty,3)\n",
    "maxpush(empty,9)\n",
    "maxpush(empty,1)\n",
    "maxpush(empty,10)\n",
    "maxpush(empty,6)\n",
    "maxpush(empty,5)"
   ]
  },
  {
   "cell_type": "code",
   "execution_count": 19,
   "id": "509c16ff",
   "metadata": {},
   "outputs": [],
   "source": [
    "maxpop(empty)"
   ]
  },
  {
   "cell_type": "code",
   "execution_count": 20,
   "id": "6fa2afbd",
   "metadata": {},
   "outputs": [
    {
     "name": "stdout",
     "output_type": "stream",
     "text": [
      "[9, 7, 1, 3, 6, 5]\n"
     ]
    }
   ],
   "source": [
    "print(empty)"
   ]
  },
  {
   "cell_type": "code",
   "execution_count": null,
   "id": "5446dc05",
   "metadata": {},
   "outputs": [],
   "source": []
  }
 ],
 "metadata": {
  "kernelspec": {
   "display_name": "Python 3 (ipykernel)",
   "language": "python",
   "name": "python3"
  },
  "language_info": {
   "codemirror_mode": {
    "name": "ipython",
    "version": 3
   },
   "file_extension": ".py",
   "mimetype": "text/x-python",
   "name": "python",
   "nbconvert_exporter": "python",
   "pygments_lexer": "ipython3",
   "version": "3.9.6"
  }
 },
 "nbformat": 4,
 "nbformat_minor": 5
}
