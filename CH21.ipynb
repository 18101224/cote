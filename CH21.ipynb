{
 "cells": [
  {
   "cell_type": "markdown",
   "id": "8e5487c4",
   "metadata": {},
   "source": [
    "<h1>요새</h1>"
   ]
  },
  {
   "cell_type": "code",
   "execution_count": 24,
   "id": "3f85944b",
   "metadata": {},
   "outputs": [
    {
     "ename": "SyntaxError",
     "evalue": "invalid syntax (1466928301.py, line 20)",
     "output_type": "error",
     "traceback": [
      "\u001b[0;36m  File \u001b[0;32m\"/var/folders/b7/nd2wbqlj4pd8ytlcv6fv1b_w0000gn/T/ipykernel_50109/1466928301.py\"\u001b[0;36m, line \u001b[0;32m20\u001b[0m\n\u001b[0;31m    if data[i][0]\u001b[0m\n\u001b[0m                 ^\u001b[0m\n\u001b[0;31mSyntaxError\u001b[0m\u001b[0;31m:\u001b[0m invalid syntax\n"
     ]
    }
   ],
   "source": [
    "#포함관계로 부모자식 만들기 \n",
    "#반지름 순으로 정렬을 해서 자식을 만들고 패스\n",
    "#parent도 기록해서 자식의 자식이 생기면 부모의 자식들 중에서 자식의 자식을 삭제\n",
    "import math\n",
    "class Node:\n",
    "    def __init__(self,point,r):\n",
    "        self.point=point\n",
    "        self.r=r\n",
    "        self.left=None\n",
    "        self.right=None\n",
    "    def left(self,leftInput):\n",
    "        self.left=leftInput\n",
    "    def right(self,rightInput):\n",
    "        self.right=rightInput\n",
    "def distance(point1,point2):\n",
    "    x = point1[0]-point2[0]\n",
    "    y = point2[1]-point1[1]\n",
    "    return math.sqrt(x**2+y**2)\n",
    "def check(data):\n",
    "    for i in range(len(data)):\n",
    "        temp=Node(data[i][0:2],data[i][-1])\n",
    "        for j in range(i+1,len(data)):\n",
    "            if distance(data[i][0:2],data[j][0:2]) > data[i][-1]+data[j][-1]: #서로 만나지 않는 경우\n",
    "                pass"
   ]
  },
  {
   "cell_type": "code",
   "execution_count": 32,
   "id": "f36a355d",
   "metadata": {},
   "outputs": [],
   "source": [
    "data=[[21,15,20],[15,15,10],[13,12,5],[12,12,3],[19,19,2],[30,24,5],[32,10,7],[32,9,4]]"
   ]
  },
  {
   "cell_type": "code",
   "execution_count": 33,
   "id": "8c443bbb",
   "metadata": {},
   "outputs": [],
   "source": [
    "import matplotlib.pyplot as plt\n",
    "def plot_circle(data):\n",
    "    fig,ax=plt.subplots()\n",
    "    ax.set_xlim(-40,40)\n",
    "    ax.set_ylim(-40,40)\n",
    "    for i in data:\n",
    "        circle=plt.Circle((i[0],i[1]),i[2])\n",
    "        ax.add_patch(circle)\n",
    "    plt.show()"
   ]
  },
  {
   "cell_type": "code",
   "execution_count": 34,
   "id": "588cd578",
   "metadata": {},
   "outputs": [
    {
     "data": {
      "image/png": "[encoded data removed]",
      "text/plain": [
       "<Figure size 432x288 with 1 Axes>"
      ]
     },
     "metadata": {
      "needs_background": "light"
     },
     "output_type": "display_data"
    }
   ],
   "source": [
    "plot_circle(data)"
   ]
  }
 ],
 "metadata": {
  "kernelspec": {
   "display_name": "Python 3 (ipykernel)",
   "language": "python",
   "name": "python3"
  },
  "language_info": {
   "codemirror_mode": {
    "name": "ipython",
    "version": 3
   },
   "file_extension": ".py",
   "mimetype": "text/x-python",
   "name": "python",
   "nbconvert_exporter": "python",
   "pygments_lexer": "ipython3",
   "version": "3.9.7"
  }
 },
 "nbformat": 4,
 "nbformat_minor": 5
}
