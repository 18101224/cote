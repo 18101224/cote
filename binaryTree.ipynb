{
 "cells": [
  {
   "cell_type": "markdown",
   "id": "707d8499",
   "metadata": {},
   "source": [
    "<h1>너드</h1>"
   ]
  },
  {
   "cell_type": "code",
   "execution_count": 20,
   "id": "e8132bd4",
   "metadata": {},
   "outputs": [],
   "source": [
    "def isDominated(tup):\n",
    "    p=tup[0]\n",
    "    q=tup[1]\n",
    "    if len(coords)==0:\n",
    "        coords.append((p,q))\n",
    "        return True,0\n",
    "    else:\n",
    "        lb=lowerBound(p)\n",
    "        if lb:\n",
    "            if coords[lb][1]>q:\n",
    "                return False\n",
    "            else:\n",
    "                coords.insert(lb-1,(p,q))\n",
    "                return True,lb-1\n",
    "        else:\n",
    "            coords.append((p,q))\n",
    "            return True,len(coords)-1\n",
    "def removeDominated(tup,lb):\n",
    "    x=tup[0]\n",
    "    y=tup[1]\n",
    "    start=lb-1\n",
    "    if lb == 0:\n",
    "        return\n",
    "    while True:\n",
    "        if start < 0 :\n",
    "            break\n",
    "        if coords[start][1] > y:\n",
    "            break\n",
    "        if coords[start][1] < y :\n",
    "            coords.pop(start)\n",
    "        start-=1\n",
    "def lowerBound(p):\n",
    "    for index in range(len(coords)):\n",
    "        if coords[index][0]>p:\n",
    "            return index\n",
    "    return 0\n",
    "def main(data):\n",
    "    coords=[]\n",
    "    result=0\n",
    "    for point in data:\n",
    "        can,index = isDominated(point)\n",
    "        if can:\n",
    "            removeDominated(point,index)\n",
    "        result+=len(coords)\n",
    "    return result"
   ]
  },
  {
   "cell_type": "code",
   "execution_count": 17,
   "id": "cd994a25",
   "metadata": {},
   "outputs": [],
   "source": [
    "import sys\n",
    "C=int(input())\n",
    "for i in range(C):\n",
    "    data=[]\n",
    "    n=int(input())\n",
    "    for k in range(n):\n",
    "        string=list(map(int,sys.stdin.readline().split()))\n",
    "        data.append((string[0],string[1]))\n",
    "    print(main(data))\n",
    "\n"
   ]
  },
  {
   "cell_type": "code",
   "execution_count": null,
   "id": "fabc4885",
   "metadata": {},
   "outputs": [],
   "source": []
  }
 ],
 "metadata": {
  "kernelspec": {
   "display_name": "Python 3 (ipykernel)",
   "language": "python",
   "name": "python3"
  },
  "language_info": {
   "codemirror_mode": {
    "name": "ipython",
    "version": 3
   },
   "file_extension": ".py",
   "mimetype": "text/x-python",
   "name": "python",
   "nbconvert_exporter": "python",
   "pygments_lexer": "ipython3",
   "version": "3.9.7"
  }
 },
 "nbformat": 4,
 "nbformat_minor": 5
}
