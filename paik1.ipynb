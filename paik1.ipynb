{
 "cells": [
  {
   "cell_type": "code",
   "execution_count": 1,
   "id": "71d36934",
   "metadata": {},
   "outputs": [],
   "source": [
    "import numpy as np"
   ]
  },
  {
   "cell_type": "markdown",
   "id": "836e8930",
   "metadata": {},
   "source": [
    "<h1>부르트포스</h1>"
   ]
  },
  {
   "cell_type": "markdown",
   "id": "e069dc88",
   "metadata": {},
   "source": [
    "<h2>블랙잭</h2>"
   ]
  },
  {
   "cell_type": "code",
   "execution_count": 33,
   "id": "01afb21b",
   "metadata": {
    "scrolled": true
   },
   "outputs": [
    {
     "ename": "KeyboardInterrupt",
     "evalue": "Interrupted by user",
     "output_type": "error",
     "traceback": [
      "\u001b[0;31m---------------------------------------------------------------------------\u001b[0m",
      "\u001b[0;31mKeyboardInterrupt\u001b[0m                         Traceback (most recent call last)",
      "\u001b[0;32m/var/folders/b7/nd2wbqlj4pd8ytlcv6fv1b_w0000gn/T/ipykernel_32069/758190396.py\u001b[0m in \u001b[0;36m<module>\u001b[0;34m\u001b[0m\n\u001b[0;32m----> 1\u001b[0;31m \u001b[0mn\u001b[0m\u001b[0;34m,\u001b[0m\u001b[0mm\u001b[0m \u001b[0;34m=\u001b[0m \u001b[0mmap\u001b[0m\u001b[0;34m(\u001b[0m\u001b[0mint\u001b[0m\u001b[0;34m,\u001b[0m\u001b[0minput\u001b[0m\u001b[0;34m(\u001b[0m\u001b[0;34m)\u001b[0m\u001b[0;34m.\u001b[0m\u001b[0msplit\u001b[0m\u001b[0;34m(\u001b[0m\u001b[0;34m)\u001b[0m\u001b[0;34m)\u001b[0m\u001b[0;34m\u001b[0m\u001b[0;34m\u001b[0m\u001b[0m\n\u001b[0m\u001b[1;32m      2\u001b[0m \u001b[0;31m#n,m=10,500\u001b[0m\u001b[0;34m\u001b[0m\u001b[0;34m\u001b[0m\u001b[0m\n\u001b[1;32m      3\u001b[0m \u001b[0;31m#string = '93 181 245 214 315 36 185 138 216 295'\u001b[0m\u001b[0;34m\u001b[0m\u001b[0;34m\u001b[0m\u001b[0m\n\u001b[1;32m      4\u001b[0m \u001b[0mstring\u001b[0m\u001b[0;34m=\u001b[0m\u001b[0msplit\u001b[0m\u001b[0;34m(\u001b[0m\u001b[0minput\u001b[0m\u001b[0;34m(\u001b[0m\u001b[0;34m)\u001b[0m\u001b[0;34m)\u001b[0m\u001b[0;34m\u001b[0m\u001b[0;34m\u001b[0m\u001b[0m\n",
      "\u001b[0;32m~/anaconda3/lib/python3.9/site-packages/ipykernel/kernelbase.py\u001b[0m in \u001b[0;36mraw_input\u001b[0;34m(self, prompt)\u001b[0m\n\u001b[1;32m   1004\u001b[0m                 \u001b[0;34m\"raw_input was called, but this frontend does not support input requests.\"\u001b[0m\u001b[0;34m\u001b[0m\u001b[0;34m\u001b[0m\u001b[0m\n\u001b[1;32m   1005\u001b[0m             )\n\u001b[0;32m-> 1006\u001b[0;31m         return self._input_request(\n\u001b[0m\u001b[1;32m   1007\u001b[0m             \u001b[0mstr\u001b[0m\u001b[0;34m(\u001b[0m\u001b[0mprompt\u001b[0m\u001b[0;34m)\u001b[0m\u001b[0;34m,\u001b[0m\u001b[0;34m\u001b[0m\u001b[0;34m\u001b[0m\u001b[0m\n\u001b[1;32m   1008\u001b[0m             \u001b[0mself\u001b[0m\u001b[0;34m.\u001b[0m\u001b[0m_parent_ident\u001b[0m\u001b[0;34m[\u001b[0m\u001b[0;34m\"shell\"\u001b[0m\u001b[0;34m]\u001b[0m\u001b[0;34m,\u001b[0m\u001b[0;34m\u001b[0m\u001b[0;34m\u001b[0m\u001b[0m\n",
      "\u001b[0;32m~/anaconda3/lib/python3.9/site-packages/ipykernel/kernelbase.py\u001b[0m in \u001b[0;36m_input_request\u001b[0;34m(self, prompt, ident, parent, password)\u001b[0m\n\u001b[1;32m   1049\u001b[0m             \u001b[0;32mexcept\u001b[0m \u001b[0mKeyboardInterrupt\u001b[0m\u001b[0;34m:\u001b[0m\u001b[0;34m\u001b[0m\u001b[0;34m\u001b[0m\u001b[0m\n\u001b[1;32m   1050\u001b[0m                 \u001b[0;31m# re-raise KeyboardInterrupt, to truncate traceback\u001b[0m\u001b[0;34m\u001b[0m\u001b[0;34m\u001b[0m\u001b[0m\n\u001b[0;32m-> 1051\u001b[0;31m                 \u001b[0;32mraise\u001b[0m \u001b[0mKeyboardInterrupt\u001b[0m\u001b[0;34m(\u001b[0m\u001b[0;34m\"Interrupted by user\"\u001b[0m\u001b[0;34m)\u001b[0m \u001b[0;32mfrom\u001b[0m \u001b[0;32mNone\u001b[0m\u001b[0;34m\u001b[0m\u001b[0;34m\u001b[0m\u001b[0m\n\u001b[0m\u001b[1;32m   1052\u001b[0m             \u001b[0;32mexcept\u001b[0m \u001b[0mException\u001b[0m\u001b[0;34m:\u001b[0m\u001b[0;34m\u001b[0m\u001b[0;34m\u001b[0m\u001b[0m\n\u001b[1;32m   1053\u001b[0m                 \u001b[0mself\u001b[0m\u001b[0;34m.\u001b[0m\u001b[0mlog\u001b[0m\u001b[0;34m.\u001b[0m\u001b[0mwarning\u001b[0m\u001b[0;34m(\u001b[0m\u001b[0;34m\"Invalid Message:\"\u001b[0m\u001b[0;34m,\u001b[0m \u001b[0mexc_info\u001b[0m\u001b[0;34m=\u001b[0m\u001b[0;32mTrue\u001b[0m\u001b[0;34m)\u001b[0m\u001b[0;34m\u001b[0m\u001b[0;34m\u001b[0m\u001b[0m\n",
      "\u001b[0;31mKeyboardInterrupt\u001b[0m: Interrupted by user"
     ]
    }
   ],
   "source": [
    "n,m = map(int,input().split())\n",
    "#n,m=10,500\n",
    "#string = '93 181 245 214 315 36 185 138 216 295'\n",
    "string=split(input())"
   ]
  },
  {
   "cell_type": "code",
   "execution_count": 8,
   "id": "01951321",
   "metadata": {},
   "outputs": [],
   "source": [
    "def split(string):\n",
    "    cards =list(map(int,string.split(' ')))\n",
    "    return cards"
   ]
  },
  {
   "cell_type": "code",
   "execution_count": 21,
   "id": "8ae38ef0",
   "metadata": {},
   "outputs": [],
   "source": [
    "def combination(cards,k):\n",
    "    if k==1:\n",
    "        temp=[]\n",
    "        for i in cards:\n",
    "            temp.append(i)\n",
    "        return temp\n",
    "    else:\n",
    "        temp=[]\n",
    "        for index in range(len(cards)):\n",
    "            rest=combination(cards[index+1:],k-1)\n",
    "            for king in rest:\n",
    "                temp.append(cards[index]+king)\n",
    "        return temp"
   ]
  },
  {
   "cell_type": "code",
   "execution_count": 30,
   "id": "16af5d40",
   "metadata": {},
   "outputs": [],
   "source": [
    "def check(result,crit):\n",
    "    for index in range(len(result)):\n",
    "        if result[index]>crit:\n",
    "            result[index]=0\n",
    "    return result"
   ]
  },
  {
   "cell_type": "code",
   "execution_count": 31,
   "id": "03f11226",
   "metadata": {},
   "outputs": [],
   "source": [
    "result=combination(split(string),3)"
   ]
  },
  {
   "cell_type": "code",
   "execution_count": 32,
   "id": "50a580ef",
   "metadata": {},
   "outputs": [
    {
     "data": {
      "text/plain": [
       "497"
      ]
     },
     "execution_count": 32,
     "metadata": {},
     "output_type": "execute_result"
    }
   ],
   "source": [
    "max(check(result,m))"
   ]
  },
  {
   "cell_type": "markdown",
   "id": "01d93712",
   "metadata": {},
   "source": [
    "<h2>분해합</h2>"
   ]
  },
  {
   "cell_type": "code",
   "execution_count": 63,
   "id": "a59b9510",
   "metadata": {},
   "outputs": [
    {
     "name": "stdout",
     "output_type": "stream",
     "text": [
      "216\n"
     ]
    }
   ],
   "source": [
    "n=int(input())\n",
    "def mini(n):\n",
    "    #k자리 숫자\n",
    "    n=str(n)\n",
    "    for i in range(int(n)):\n",
    "        temp=i\n",
    "        for k in str(i):\n",
    "            temp+=int(k)\n",
    "        if temp == int(n) :\n",
    "            return i\n",
    "    return 0"
   ]
  },
  {
   "cell_type": "code",
   "execution_count": 64,
   "id": "888fb19c",
   "metadata": {
    "scrolled": false
   },
   "outputs": [
    {
     "data": {
      "text/plain": [
       "198"
      ]
     },
     "execution_count": 64,
     "metadata": {},
     "output_type": "execute_result"
    }
   ],
   "source": [
    "mini(n)"
   ]
  },
  {
   "cell_type": "markdown",
   "id": "64611377",
   "metadata": {},
   "source": [
    "<h2>덩치 정렬</h2>"
   ]
  },
  {
   "cell_type": "code",
   "execution_count": 153,
   "id": "26a1c70d",
   "metadata": {},
   "outputs": [],
   "source": [
    "def inp(n):\n",
    "    data=[]\n",
    "    for i in range(n):\n",
    "        string=input()\n",
    "        a,b=map(int,string.split(' '))\n",
    "        data.append((a,b,i))\n",
    "    return data"
   ]
  },
  {
   "cell_type": "code",
   "execution_count": 147,
   "id": "81f7bdeb",
   "metadata": {},
   "outputs": [],
   "source": [
    "n = 5#int(input())\n",
    "now=[(55,185),(58,183),(88,186),(60,175),(46,155)]"
   ]
  },
  {
   "cell_type": "code",
   "execution_count": 148,
   "id": "7bd73056",
   "metadata": {},
   "outputs": [],
   "source": [
    "def findMax(data,col):\n",
    "    maxi=0\n",
    "    maxv=0\n",
    "    for i in range(len(data)):\n",
    "        if maxv<data[i][col]:\n",
    "            maxi=i\n",
    "            maxv=data[i][col]\n",
    "    return maxi,maxv"
   ]
  },
  {
   "cell_type": "code",
   "execution_count": 149,
   "id": "d2447715",
   "metadata": {},
   "outputs": [],
   "source": [
    "def absolute(cow):\n",
    "    if len(cow)==0:\n",
    "        return []\n",
    "    if len(cow)==1:\n",
    "        return cow\n",
    "    data=cow\n",
    "    rank=[]\n",
    "    maxxi,maxxv=findMax(data,0)\n",
    "    maxyi,maxyv=findMax(data,1)\n",
    "    if maxxi==maxyi:\n",
    "        rank.append(data[maxxi])\n",
    "        data.pop(maxxi)\n",
    "        after=absolute(data)\n",
    "        rank=rank+after\n",
    "    else:\n",
    "        print(data)\n",
    "        temp=[]\n",
    "        temp.append(data[maxxi])\n",
    "        temp.append(data[maxyi])\n",
    "        maxxv=data[maxxi][1] #최대 x값을 갖는 sample의 y값 \n",
    "        maxxy=data[maxyi][0] #최대 y값을 갖는 sample의 x값\n",
    "        if maxyi>maxxi:\n",
    "            data.pop(maxyi)\n",
    "            data.pop(maxxi)\n",
    "        else:\n",
    "            data.pop(maxxi)\n",
    "            data.pop(maxyi)\n",
    "        index=0\n",
    "        while(index<len(data)):\n",
    "            if maxxv<data[index][1]:\n",
    "                temp.append(data[index])\n",
    "                data.pop(index)\n",
    "            else:\n",
    "                index+=1\n",
    "        index=0\n",
    "        while(index<len(data)):\n",
    "            if maxxy<data[index][0]:\n",
    "                temp.append(data[index])\n",
    "                data.pop(index)\n",
    "            else:\n",
    "                index+=1\n",
    "        rank.append(temp)\n",
    "        after=absolute(data)\n",
    "        rank=rank+after\n",
    "    return rank"
   ]
  },
  {
   "cell_type": "code",
   "execution_count": 150,
   "id": "e140785d",
   "metadata": {},
   "outputs": [
    {
     "name": "stdout",
     "output_type": "stream",
     "text": [
      "[(55, 185), (58, 183), (60, 175), (46, 155)]\n"
     ]
    }
   ],
   "source": [
    "result=absolute(now)"
   ]
  },
  {
   "cell_type": "code",
   "execution_count": 168,
   "id": "a6275234",
   "metadata": {},
   "outputs": [],
   "source": [
    "def rank(data,n):\n",
    "    rank=1\n",
    "    final=[]\n",
    "    for index in range(len(data)):\n",
    "        if type(data[index])==list:\n",
    "            for index2 in range(len(data[index])):\n",
    "                data[index][index2]=(data[index][index2][0],\n",
    "                                     data[index][index2][1],\n",
    "                                     rank)\n",
    "            rank+=len(data[index])\n",
    "        else:\n",
    "            data[index]=(data[index][0],data[index][1],rank)\n",
    "    index=0\n",
    "    while(index<n):\n",
    "        if index>len(data)-1:\n",
    "            break\n",
    "        if type(data[index])==list:\n",
    "            for row in data[index]:\n",
    "                final.append((row[1],row[2]))\n",
    "            index+=len(data[index])\n",
    "        else:\n",
    "            final.append((data[index][1],data[index][2]))\n",
    "            index+=1\n",
    "    return final.sort()"
   ]
  },
  {
   "cell_type": "markdown",
   "id": "b41e7819",
   "metadata": {},
   "source": [
    "<h2>체스판 칠하기</h2>"
   ]
  },
  {
   "cell_type": "markdown",
   "id": "5b54ced7",
   "metadata": {},
   "source": [
    "<h2>뭔 감독</h2>"
   ]
  },
  {
   "cell_type": "code",
   "execution_count": null,
   "id": "540ff437",
   "metadata": {},
   "outputs": [],
   "source": [
    "def six(n):\n",
    "    k=3\n",
    "    count=0\n",
    "    left=''\n",
    "    right=''\n",
    "    center='666'\n",
    "    while(count!=0):\n",
    "        if int(right)<now :\n",
    "            right=str(int(right)+1)\n",
    "            if int(right)==now:\n",
    "                right=''\n",
    "                now\n",
    "                for i in range(now):\n",
    "        if int(left)<6:\n",
    "##정성적으로 푸는 방법이 있지 않능교  "
   ]
  },
  {
   "cell_type": "markdown",
   "id": "9934521a",
   "metadata": {},
   "source": [
    "<h1>분할정복</h1>"
   ]
  },
  {
   "cell_type": "markdown",
   "id": "5bdc96dd",
   "metadata": {},
   "source": [
    "<h2>종이접기</h2>"
   ]
  },
  {
   "cell_type": "code",
   "execution_count": 225,
   "id": "3713b989",
   "metadata": {},
   "outputs": [],
   "source": [
    "#파란종이,흰종이\n",
    "def sing(matrix):\n",
    "    n=len(matrix[0])\n",
    "    if n==1:\n",
    "        if matrix[0][0]==1:\n",
    "            return (1,0)\n",
    "        else:\n",
    "            return (0,1)\n",
    "    else:\n",
    "        if matsum(matrix)==n*n:\n",
    "            return (1,0)\n",
    "        elif matsum(matrix)==0:\n",
    "            return (0,1)\n",
    "        else: #또 나눠야할 때\n",
    "            count=[0,0]\n",
    "            a,b=sing(matrix[0:n//2][:,0:n//2])\n",
    "            count[0]+=a\n",
    "            count[1]+=b\n",
    "            a,b=sing(matrix[n//2:][:,0:n//2])\n",
    "            count[0]+=a\n",
    "            count[1]+=b\n",
    "            a,b=sing(matrix[0:n//2][:,n//2:])\n",
    "            count[0]+=a\n",
    "            count[1]+=b\n",
    "            a,b=sing(matrix[n//2:][:,n//2:])\n",
    "            count[0]+=a\n",
    "            count[1]+=b\n",
    "            return (count[0],count[1])"
   ]
  },
  {
   "cell_type": "code",
   "execution_count": 226,
   "id": "9fa24a05",
   "metadata": {},
   "outputs": [],
   "source": [
    "def matsum(matrix):\n",
    "    n=len(matrix[0])\n",
    "    result=0\n",
    "    for i in range(n):\n",
    "        for j in range(n):\n",
    "            result+=matrix[i][j]\n",
    "    return result"
   ]
  },
  {
   "cell_type": "code",
   "execution_count": 227,
   "id": "2470fa16",
   "metadata": {},
   "outputs": [],
   "source": [
    "def convert(matrix):\n",
    "    import math\n",
    "    temp=list(map(int,matrix.split(' ')))\n",
    "    n=int(math.sqrt(len(temp)))\n",
    "    matrix=[[0 for i in range(n)] for i in range(n)]\n",
    "    for i in range(n*n):\n",
    "        matrix[i//n][i%n]=temp[i]\n",
    "    return np.array(matrix)"
   ]
  },
  {
   "cell_type": "code",
   "execution_count": 228,
   "id": "9f84715e",
   "metadata": {},
   "outputs": [],
   "source": [
    "matrix='1 1 0 0 0 0 1 1 1 1 0 0 0 0 1 1 0 0 0 0 1 1 0 0 0 0 0 0 1 1 0 0 1 0 0 0 1 1 1 1 0 1 0 0 1 1 1 1 0 0 1 1 1 1 1 1 0 0 1 1 1 1 1 1'"
   ]
  },
  {
   "cell_type": "code",
   "execution_count": 230,
   "id": "d756b911",
   "metadata": {},
   "outputs": [
    {
     "data": {
      "text/plain": [
       "(7, 9)"
      ]
     },
     "execution_count": 230,
     "metadata": {},
     "output_type": "execute_result"
    }
   ],
   "source": [
    "sing(convert(matrix))"
   ]
  },
  {
   "cell_type": "markdown",
   "id": "4eedba2e",
   "metadata": {},
   "source": [
    "<h2>쿼드트리 문자열로</h2>"
   ]
  },
  {
   "cell_type": "code",
   "execution_count": 233,
   "id": "094157ad",
   "metadata": {},
   "outputs": [],
   "source": [
    "matrix='1 1 1 1 0 0 0 0 1 1 1 1 0 0 0 0 0 0 0 1 1 1 0 0 0 0 0 1 1 1 0 0 1 1 1 1 0 0 0 0 1 1 1 1 0 0 0 0 1 1 1 1 0 0 1 1 1 1 1 1 0 0 1 1' "
   ]
  },
  {
   "cell_type": "code",
   "execution_count": 234,
   "id": "12c86313",
   "metadata": {},
   "outputs": [
    {
     "data": {
      "text/plain": [
       "array([[1, 1, 1, 1, 0, 0, 0, 0],\n",
       "       [1, 1, 1, 1, 0, 0, 0, 0],\n",
       "       [0, 0, 0, 1, 1, 1, 0, 0],\n",
       "       [0, 0, 0, 1, 1, 1, 0, 0],\n",
       "       [1, 1, 1, 1, 0, 0, 0, 0],\n",
       "       [1, 1, 1, 1, 0, 0, 0, 0],\n",
       "       [1, 1, 1, 1, 0, 0, 1, 1],\n",
       "       [1, 1, 1, 1, 0, 0, 1, 1]])"
      ]
     },
     "execution_count": 234,
     "metadata": {},
     "output_type": "execute_result"
    }
   ],
   "source": [
    "convert(matrix)"
   ]
  },
  {
   "cell_type": "code",
   "execution_count": 240,
   "id": "49debfc1",
   "metadata": {},
   "outputs": [],
   "source": [
    "def quadZip(matrix):\n",
    "    n=len(matrix[0])\n",
    "    if n==1:\n",
    "        return str(matrix[0][0])\n",
    "    else:\n",
    "        if matsum(matrix)==n*n:\n",
    "            return str(1)\n",
    "        elif matsum(matrix)==0:\n",
    "            return str(0)\n",
    "        else:\n",
    "            temp=''\n",
    "            temp+=quadZip(matrix[0:n//2,0:n//2])\n",
    "            temp+=quadZip(matrix[0:n//2,n//2:])\n",
    "            temp+=quadZip(matrix[n//2:,0:n//2])\n",
    "            temp+=quadZip(matrix[n//2:,n//2:])\n",
    "            return '('+temp+')'\n"
   ]
  },
  {
   "cell_type": "code",
   "execution_count": 241,
   "id": "a3ed66d0",
   "metadata": {},
   "outputs": [
    {
     "data": {
      "text/plain": [
       "'((110(0101))(0010)1(0001))'"
      ]
     },
     "execution_count": 241,
     "metadata": {},
     "output_type": "execute_result"
    }
   ],
   "source": [
    "quadZip(convert(matrix))"
   ]
  },
  {
   "cell_type": "markdown",
   "id": "9ed51b6f",
   "metadata": {},
   "source": [
    "<h2> 굳이 9개로 나누기</h2>"
   ]
  },
  {
   "cell_type": "code",
   "execution_count": 251,
   "id": "394301d9",
   "metadata": {},
   "outputs": [],
   "source": [
    "matrix='0 0 0 1 1 1 -1 -1 -1 0 0 0 1 1 1 -1 -1 -1 0 0 0 1 1 1 -1 -1 -1 1 1 1 0 0 0 0 0 0 1 1 1 0 0 0 0 0 0 1 1 1 0 0 0 0 0 0 0 1 -1 0 1 -1 0 1 -1 0 -1 1 0 1 -1 0 1 -1 0 1 -1 1 0 -1 0 1 -1'"
   ]
  },
  {
   "cell_type": "code",
   "execution_count": 252,
   "id": "60af1886",
   "metadata": {},
   "outputs": [
    {
     "data": {
      "text/plain": [
       "array([[ 0,  0,  0,  1,  1,  1, -1, -1, -1],\n",
       "       [ 0,  0,  0,  1,  1,  1, -1, -1, -1],\n",
       "       [ 0,  0,  0,  1,  1,  1, -1, -1, -1],\n",
       "       [ 1,  1,  1,  0,  0,  0,  0,  0,  0],\n",
       "       [ 1,  1,  1,  0,  0,  0,  0,  0,  0],\n",
       "       [ 1,  1,  1,  0,  0,  0,  0,  0,  0],\n",
       "       [ 0,  1, -1,  0,  1, -1,  0,  1, -1],\n",
       "       [ 0, -1,  1,  0,  1, -1,  0,  1, -1],\n",
       "       [ 0,  1, -1,  1,  0, -1,  0,  1, -1]])"
      ]
     },
     "execution_count": 252,
     "metadata": {},
     "output_type": "execute_result"
    }
   ],
   "source": [
    "matrix=convert(matrix)\n",
    "matrix[:9]"
   ]
  },
  {
   "cell_type": "code",
   "execution_count": 268,
   "id": "32e3ac1e",
   "metadata": {},
   "outputs": [],
   "source": [
    "def check(matrix):\n",
    "    default=matrix[0][0]\n",
    "    for row in matrix:\n",
    "        for element in row:\n",
    "            if default != element:\n",
    "                return np.array([0,0,0])\n",
    "    result=np.array([0,0,0])\n",
    "    result[default+1]=1\n",
    "    return result"
   ]
  },
  {
   "cell_type": "code",
   "execution_count": 274,
   "id": "8df93f2d",
   "metadata": {},
   "outputs": [],
   "source": [
    "#matsum 으로 하면 0이되는 경우가 있더라 .. \n",
    "def nineSplit(matrix):\n",
    "    n=len(matrix[0])\n",
    "    if n==1:\n",
    "        if matrix[0][0]==-1:\n",
    "            return np.array([1,0,0])\n",
    "        elif matrix[0][0]==0:\n",
    "            return np.array([0,1,0])\n",
    "        else:\n",
    "            return np.array([0,0,1])\n",
    "    else:\n",
    "        summation=check(matrix)\n",
    "        if summation.sum()==0:\n",
    "            result=np.array([0,0,0])\n",
    "            for i in range(0,n,n//3):\n",
    "                for j in range(0,n,n//3):\n",
    "                    result+=nineSplit(matrix[i:(i+3),j:(j+3)])\n",
    "            return result\n",
    "        else:\n",
    "            return summation"
   ]
  },
  {
   "cell_type": "code",
   "execution_count": 277,
   "id": "ec66f6e3",
   "metadata": {},
   "outputs": [
    {
     "ename": "RecursionError",
     "evalue": "maximum recursion depth exceeded while calling a Python object",
     "output_type": "error",
     "traceback": [
      "\u001b[0;31m---------------------------------------------------------------------------\u001b[0m",
      "\u001b[0;31mRecursionError\u001b[0m                            Traceback (most recent call last)",
      "\u001b[0;32m/var/folders/b7/nd2wbqlj4pd8ytlcv6fv1b_w0000gn/T/ipykernel_32069/3902327111.py\u001b[0m in \u001b[0;36m<module>\u001b[0;34m\u001b[0m\n\u001b[0;32m----> 1\u001b[0;31m \u001b[0mnineSplit\u001b[0m\u001b[0;34m(\u001b[0m\u001b[0mmatrix\u001b[0m\u001b[0;34m)\u001b[0m\u001b[0;34m\u001b[0m\u001b[0;34m\u001b[0m\u001b[0m\n\u001b[0m",
      "\u001b[0;32m/var/folders/b7/nd2wbqlj4pd8ytlcv6fv1b_w0000gn/T/ipykernel_32069/1604956857.py\u001b[0m in \u001b[0;36mnineSplit\u001b[0;34m(matrix)\u001b[0m\n\u001b[1;32m     15\u001b[0m             \u001b[0;32mfor\u001b[0m \u001b[0mi\u001b[0m \u001b[0;32min\u001b[0m \u001b[0mrange\u001b[0m\u001b[0;34m(\u001b[0m\u001b[0;36m0\u001b[0m\u001b[0;34m,\u001b[0m\u001b[0mn\u001b[0m\u001b[0;34m,\u001b[0m\u001b[0mn\u001b[0m\u001b[0;34m//\u001b[0m\u001b[0;36m3\u001b[0m\u001b[0;34m)\u001b[0m\u001b[0;34m:\u001b[0m\u001b[0;34m\u001b[0m\u001b[0;34m\u001b[0m\u001b[0m\n\u001b[1;32m     16\u001b[0m                 \u001b[0;32mfor\u001b[0m \u001b[0mj\u001b[0m \u001b[0;32min\u001b[0m \u001b[0mrange\u001b[0m\u001b[0;34m(\u001b[0m\u001b[0;36m0\u001b[0m\u001b[0;34m,\u001b[0m\u001b[0mn\u001b[0m\u001b[0;34m,\u001b[0m\u001b[0mn\u001b[0m\u001b[0;34m//\u001b[0m\u001b[0;36m3\u001b[0m\u001b[0;34m)\u001b[0m\u001b[0;34m:\u001b[0m\u001b[0;34m\u001b[0m\u001b[0;34m\u001b[0m\u001b[0m\n\u001b[0;32m---> 17\u001b[0;31m                     \u001b[0mresult\u001b[0m\u001b[0;34m+=\u001b[0m\u001b[0mnineSplit\u001b[0m\u001b[0;34m(\u001b[0m\u001b[0mmatrix\u001b[0m\u001b[0;34m[\u001b[0m\u001b[0mi\u001b[0m\u001b[0;34m:\u001b[0m\u001b[0;34m(\u001b[0m\u001b[0mi\u001b[0m\u001b[0;34m+\u001b[0m\u001b[0;36m3\u001b[0m\u001b[0;34m)\u001b[0m\u001b[0;34m,\u001b[0m\u001b[0mj\u001b[0m\u001b[0;34m:\u001b[0m\u001b[0;34m(\u001b[0m\u001b[0mj\u001b[0m\u001b[0;34m+\u001b[0m\u001b[0;36m3\u001b[0m\u001b[0;34m)\u001b[0m\u001b[0;34m]\u001b[0m\u001b[0;34m)\u001b[0m\u001b[0;34m\u001b[0m\u001b[0;34m\u001b[0m\u001b[0m\n\u001b[0m\u001b[1;32m     18\u001b[0m             \u001b[0;32mreturn\u001b[0m \u001b[0mresult\u001b[0m\u001b[0;34m\u001b[0m\u001b[0;34m\u001b[0m\u001b[0m\n\u001b[1;32m     19\u001b[0m         \u001b[0;32melse\u001b[0m\u001b[0;34m:\u001b[0m\u001b[0;34m\u001b[0m\u001b[0;34m\u001b[0m\u001b[0m\n",
      "... last 1 frames repeated, from the frame below ...\n",
      "\u001b[0;32m/var/folders/b7/nd2wbqlj4pd8ytlcv6fv1b_w0000gn/T/ipykernel_32069/1604956857.py\u001b[0m in \u001b[0;36mnineSplit\u001b[0;34m(matrix)\u001b[0m\n\u001b[1;32m     15\u001b[0m             \u001b[0;32mfor\u001b[0m \u001b[0mi\u001b[0m \u001b[0;32min\u001b[0m \u001b[0mrange\u001b[0m\u001b[0;34m(\u001b[0m\u001b[0;36m0\u001b[0m\u001b[0;34m,\u001b[0m\u001b[0mn\u001b[0m\u001b[0;34m,\u001b[0m\u001b[0mn\u001b[0m\u001b[0;34m//\u001b[0m\u001b[0;36m3\u001b[0m\u001b[0;34m)\u001b[0m\u001b[0;34m:\u001b[0m\u001b[0;34m\u001b[0m\u001b[0;34m\u001b[0m\u001b[0m\n\u001b[1;32m     16\u001b[0m                 \u001b[0;32mfor\u001b[0m \u001b[0mj\u001b[0m \u001b[0;32min\u001b[0m \u001b[0mrange\u001b[0m\u001b[0;34m(\u001b[0m\u001b[0;36m0\u001b[0m\u001b[0;34m,\u001b[0m\u001b[0mn\u001b[0m\u001b[0;34m,\u001b[0m\u001b[0mn\u001b[0m\u001b[0;34m//\u001b[0m\u001b[0;36m3\u001b[0m\u001b[0;34m)\u001b[0m\u001b[0;34m:\u001b[0m\u001b[0;34m\u001b[0m\u001b[0;34m\u001b[0m\u001b[0m\n\u001b[0;32m---> 17\u001b[0;31m                     \u001b[0mresult\u001b[0m\u001b[0;34m+=\u001b[0m\u001b[0mnineSplit\u001b[0m\u001b[0;34m(\u001b[0m\u001b[0mmatrix\u001b[0m\u001b[0;34m[\u001b[0m\u001b[0mi\u001b[0m\u001b[0;34m:\u001b[0m\u001b[0;34m(\u001b[0m\u001b[0mi\u001b[0m\u001b[0;34m+\u001b[0m\u001b[0;36m3\u001b[0m\u001b[0;34m)\u001b[0m\u001b[0;34m,\u001b[0m\u001b[0mj\u001b[0m\u001b[0;34m:\u001b[0m\u001b[0;34m(\u001b[0m\u001b[0mj\u001b[0m\u001b[0;34m+\u001b[0m\u001b[0;36m3\u001b[0m\u001b[0;34m)\u001b[0m\u001b[0;34m]\u001b[0m\u001b[0;34m)\u001b[0m\u001b[0;34m\u001b[0m\u001b[0;34m\u001b[0m\u001b[0m\n\u001b[0m\u001b[1;32m     18\u001b[0m             \u001b[0;32mreturn\u001b[0m \u001b[0mresult\u001b[0m\u001b[0;34m\u001b[0m\u001b[0;34m\u001b[0m\u001b[0m\n\u001b[1;32m     19\u001b[0m         \u001b[0;32melse\u001b[0m\u001b[0;34m:\u001b[0m\u001b[0;34m\u001b[0m\u001b[0;34m\u001b[0m\u001b[0m\n",
      "\u001b[0;31mRecursionError\u001b[0m: maximum recursion depth exceeded while calling a Python object"
     ]
    }
   ],
   "source": [
    "nineSplit(matrix)"
   ]
  },
  {
   "cell_type": "code",
   "execution_count": null,
   "id": "8a198e8b",
   "metadata": {},
   "outputs": [],
   "source": []
  }
 ],
 "metadata": {
  "kernelspec": {
   "display_name": "Python 3 (ipykernel)",
   "language": "python",
   "name": "python3"
  },
  "language_info": {
   "codemirror_mode": {
    "name": "ipython",
    "version": 3
   },
   "file_extension": ".py",
   "mimetype": "text/x-python",
   "name": "python",
   "nbconvert_exporter": "python",
   "pygments_lexer": "ipython3",
   "version": "3.9.7"
  }
 },
 "nbformat": 4,
 "nbformat_minor": 5
}
